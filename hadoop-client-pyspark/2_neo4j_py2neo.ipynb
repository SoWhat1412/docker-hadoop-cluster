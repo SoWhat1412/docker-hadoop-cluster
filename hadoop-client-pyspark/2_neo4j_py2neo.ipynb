{
 "cells": [
  {
   "cell_type": "code",
   "execution_count": 9,
   "metadata": {
    "ExecuteTime": {
     "end_time": "2019-02-26T00:39:27.247912Z",
     "start_time": "2019-02-26T00:39:25.363004Z"
    }
   },
   "outputs": [],
   "source": [
    "import py2neo\n",
    "import pandas as pd"
   ]
  },
  {
   "cell_type": "code",
   "execution_count": 3,
   "metadata": {
    "ExecuteTime": {
     "end_time": "2019-02-25T07:25:24.300888Z",
     "start_time": "2019-02-25T07:25:23.966863Z"
    }
   },
   "outputs": [],
   "source": [
    "graph = py2neo.Graph(\"http://hadoop-neo4j:7474/db/data/\")"
   ]
  },
  {
   "cell_type": "code",
   "execution_count": 7,
   "metadata": {
    "ExecuteTime": {
     "end_time": "2019-02-26T00:37:00.614094Z",
     "start_time": "2019-02-26T00:37:00.461382Z"
    }
   },
   "outputs": [],
   "source": [
    "result_generator = graph.run('MATCH (n) RETURN n LIMIT 25')"
   ]
  },
  {
   "cell_type": "code",
   "execution_count": 6,
   "metadata": {
    "ExecuteTime": {
     "end_time": "2019-02-26T00:36:51.484745Z",
     "start_time": "2019-02-26T00:36:51.396886Z"
    }
   },
   "outputs": [
    {
     "data": {
      "text/plain": [
       "[<Record n=(_0:Author {firstname: 'William', lastname: 'Shakespeare'})>,\n",
       " <Record n=(_1:Play {title: 'Julius Caesar'})>,\n",
       " <Record n=(_2:Play {title: 'The Tempest'})>,\n",
       " <Record n=(_3:Company {name: 'RSC'})>,\n",
       " <Record n=(_4:Production {name: 'Julius Caesar'})>,\n",
       " <Record n=(_5:Performance {date: 20120729})>,\n",
       " <Record n=(_6:Production {name: 'The Tempest'})>,\n",
       " <Record n=(_7:Performance {date: 20061121})>,\n",
       " <Record n=(_8:Performance {date: 20120730})>,\n",
       " <Record n=(_9:User {name: 'Billy'})>,\n",
       " <Record n=(_10:Review {rating: 5, review: 'This was awesome!'})>,\n",
       " <Record n=(_11:Venue {name: 'Theatre Royal'})>,\n",
       " <Record n=(_12:Street {name: 'Grey Street'})>,\n",
       " <Record n=(_13:City {name: 'Newcastle'})>,\n",
       " <Record n=(_14:County {name: 'Tyne and Wear'})>,\n",
       " <Record n=(_15:Country {name: 'England'})>,\n",
       " <Record n=(_16:City {name: 'Stratford upon Avon'})>]"
      ]
     },
     "execution_count": 6,
     "metadata": {},
     "output_type": "execute_result"
    }
   ],
   "source": [
    "results = list(result_generator)\n",
    "results"
   ]
  },
  {
   "cell_type": "code",
   "execution_count": 8,
   "metadata": {
    "ExecuteTime": {
     "end_time": "2019-02-26T00:37:11.053196Z",
     "start_time": "2019-02-26T00:37:11.042729Z"
    }
   },
   "outputs": [
    {
     "data": {
      "text/plain": [
       "[{'n': (_0:Author {firstname: 'William', lastname: 'Shakespeare'})},\n",
       " {'n': (_1:Play {title: 'Julius Caesar'})},\n",
       " {'n': (_2:Play {title: 'The Tempest'})},\n",
       " {'n': (_3:Company {name: 'RSC'})},\n",
       " {'n': (_4:Production {name: 'Julius Caesar'})},\n",
       " {'n': (_5:Performance {date: 20120729})},\n",
       " {'n': (_6:Production {name: 'The Tempest'})},\n",
       " {'n': (_7:Performance {date: 20061121})},\n",
       " {'n': (_8:Performance {date: 20120730})},\n",
       " {'n': (_9:User {name: 'Billy'})},\n",
       " {'n': (_10:Review {rating: 5, review: 'This was awesome!'})},\n",
       " {'n': (_11:Venue {name: 'Theatre Royal'})},\n",
       " {'n': (_12:Street {name: 'Grey Street'})},\n",
       " {'n': (_13:City {name: 'Newcastle'})},\n",
       " {'n': (_14:County {name: 'Tyne and Wear'})},\n",
       " {'n': (_15:Country {name: 'England'})},\n",
       " {'n': (_16:City {name: 'Stratford upon Avon'})}]"
      ]
     },
     "execution_count": 8,
     "metadata": {},
     "output_type": "execute_result"
    }
   ],
   "source": [
    "results = result_generator.data()\n",
    "results"
   ]
  },
  {
   "cell_type": "code",
   "execution_count": 11,
   "metadata": {
    "ExecuteTime": {
     "end_time": "2019-02-26T00:39:37.123127Z",
     "start_time": "2019-02-26T00:39:37.091019Z"
    }
   },
   "outputs": [
    {
     "data": {
      "text/html": [
       "<div>\n",
       "<style scoped>\n",
       "    .dataframe tbody tr th:only-of-type {\n",
       "        vertical-align: middle;\n",
       "    }\n",
       "\n",
       "    .dataframe tbody tr th {\n",
       "        vertical-align: top;\n",
       "    }\n",
       "\n",
       "    .dataframe thead th {\n",
       "        text-align: right;\n",
       "    }\n",
       "</style>\n",
       "<table border=\"1\" class=\"dataframe\">\n",
       "  <thead>\n",
       "    <tr style=\"text-align: right;\">\n",
       "      <th></th>\n",
       "      <th>n</th>\n",
       "    </tr>\n",
       "  </thead>\n",
       "  <tbody>\n",
       "    <tr>\n",
       "      <th>0</th>\n",
       "      <td>{'lastname': 'Shakespeare', 'firstname': 'Will...</td>\n",
       "    </tr>\n",
       "    <tr>\n",
       "      <th>1</th>\n",
       "      <td>{'title': 'Julius Caesar'}</td>\n",
       "    </tr>\n",
       "    <tr>\n",
       "      <th>2</th>\n",
       "      <td>{'title': 'The Tempest'}</td>\n",
       "    </tr>\n",
       "    <tr>\n",
       "      <th>3</th>\n",
       "      <td>{'name': 'RSC'}</td>\n",
       "    </tr>\n",
       "    <tr>\n",
       "      <th>4</th>\n",
       "      <td>{'name': 'Julius Caesar'}</td>\n",
       "    </tr>\n",
       "    <tr>\n",
       "      <th>5</th>\n",
       "      <td>{'date': 20120729}</td>\n",
       "    </tr>\n",
       "    <tr>\n",
       "      <th>6</th>\n",
       "      <td>{'name': 'The Tempest'}</td>\n",
       "    </tr>\n",
       "    <tr>\n",
       "      <th>7</th>\n",
       "      <td>{'date': 20061121}</td>\n",
       "    </tr>\n",
       "    <tr>\n",
       "      <th>8</th>\n",
       "      <td>{'date': 20120730}</td>\n",
       "    </tr>\n",
       "    <tr>\n",
       "      <th>9</th>\n",
       "      <td>{'name': 'Billy'}</td>\n",
       "    </tr>\n",
       "    <tr>\n",
       "      <th>10</th>\n",
       "      <td>{'review': 'This was awesome!', 'rating': 5}</td>\n",
       "    </tr>\n",
       "    <tr>\n",
       "      <th>11</th>\n",
       "      <td>{'name': 'Theatre Royal'}</td>\n",
       "    </tr>\n",
       "    <tr>\n",
       "      <th>12</th>\n",
       "      <td>{'name': 'Grey Street'}</td>\n",
       "    </tr>\n",
       "    <tr>\n",
       "      <th>13</th>\n",
       "      <td>{'name': 'Newcastle'}</td>\n",
       "    </tr>\n",
       "    <tr>\n",
       "      <th>14</th>\n",
       "      <td>{'name': 'Tyne and Wear'}</td>\n",
       "    </tr>\n",
       "    <tr>\n",
       "      <th>15</th>\n",
       "      <td>{'name': 'England'}</td>\n",
       "    </tr>\n",
       "    <tr>\n",
       "      <th>16</th>\n",
       "      <td>{'name': 'Stratford upon Avon'}</td>\n",
       "    </tr>\n",
       "  </tbody>\n",
       "</table>\n",
       "</div>"
      ],
      "text/plain": [
       "                                                    n\n",
       "0   {'lastname': 'Shakespeare', 'firstname': 'Will...\n",
       "1                          {'title': 'Julius Caesar'}\n",
       "2                            {'title': 'The Tempest'}\n",
       "3                                     {'name': 'RSC'}\n",
       "4                           {'name': 'Julius Caesar'}\n",
       "5                                  {'date': 20120729}\n",
       "6                             {'name': 'The Tempest'}\n",
       "7                                  {'date': 20061121}\n",
       "8                                  {'date': 20120730}\n",
       "9                                   {'name': 'Billy'}\n",
       "10       {'review': 'This was awesome!', 'rating': 5}\n",
       "11                          {'name': 'Theatre Royal'}\n",
       "12                            {'name': 'Grey Street'}\n",
       "13                              {'name': 'Newcastle'}\n",
       "14                          {'name': 'Tyne and Wear'}\n",
       "15                                {'name': 'England'}\n",
       "16                    {'name': 'Stratford upon Avon'}"
      ]
     },
     "execution_count": 11,
     "metadata": {},
     "output_type": "execute_result"
    }
   ],
   "source": [
    "df = pd.DataFrame(results)\n",
    "df"
   ]
  }
 ],
 "metadata": {
  "kernelspec": {
   "display_name": "Python 3",
   "language": "python",
   "name": "python3"
  },
  "language_info": {
   "codemirror_mode": {
    "name": "ipython",
    "version": 3
   },
   "file_extension": ".py",
   "mimetype": "text/x-python",
   "name": "python",
   "nbconvert_exporter": "python",
   "pygments_lexer": "ipython3",
   "version": "3.5.5"
  },
  "varInspector": {
   "cols": {
    "lenName": 16,
    "lenType": 16,
    "lenVar": 40
   },
   "kernels_config": {
    "python": {
     "delete_cmd_postfix": "",
     "delete_cmd_prefix": "del ",
     "library": "var_list.py",
     "varRefreshCmd": "print(var_dic_list())"
    },
    "r": {
     "delete_cmd_postfix": ") ",
     "delete_cmd_prefix": "rm(",
     "library": "var_list.r",
     "varRefreshCmd": "cat(var_dic_list()) "
    }
   },
   "types_to_exclude": [
    "module",
    "function",
    "builtin_function_or_method",
    "instance",
    "_Feature"
   ],
   "window_display": false
  }
 },
 "nbformat": 4,
 "nbformat_minor": 2
}
