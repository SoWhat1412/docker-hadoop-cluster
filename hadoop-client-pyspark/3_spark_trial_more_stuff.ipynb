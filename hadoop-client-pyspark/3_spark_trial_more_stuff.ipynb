{
 "cells": [
  {
   "cell_type": "markdown",
   "metadata": {},
   "source": [
    "# Load data"
   ]
  },
  {
   "cell_type": "code",
   "execution_count": 1,
   "metadata": {
    "ExecuteTime": {
     "end_time": "2019-02-26T08:19:59.976548Z",
     "start_time": "2019-02-26T08:19:59.562074Z"
    }
   },
   "outputs": [
    {
     "name": "stdout",
     "output_type": "stream",
     "text": [
      "/home/jovyan/work/Documents/hengchang/sdhadoop/hadoop-client\r\n"
     ]
    }
   ],
   "source": [
    "!pwd"
   ]
  },
  {
   "cell_type": "code",
   "execution_count": 2,
   "metadata": {
    "ExecuteTime": {
     "end_time": "2019-02-26T08:20:03.597783Z",
     "start_time": "2019-02-26T08:20:01.003743Z"
    }
   },
   "outputs": [
    {
     "name": "stdout",
     "output_type": "stream",
     "text": [
      "--2019-02-26 08:20:01--  http://files.grouplens.org/datasets/movielens/ml-100k.zip\n",
      "Resolving files.grouplens.org (files.grouplens.org)... 128.101.34.235\n",
      "Connecting to files.grouplens.org (files.grouplens.org)|128.101.34.235|:80... connected.\n",
      "HTTP request sent, awaiting response... 302 Found\n",
      "Location: http://120.52.51.18/files.grouplens.org/datasets/movielens/ml-100k.zip [following]\n",
      "--2019-02-26 08:20:01--  http://120.52.51.18/files.grouplens.org/datasets/movielens/ml-100k.zip\n",
      "Connecting to 120.52.51.18:80... connected.\n",
      "HTTP request sent, awaiting response... 200 OK\n",
      "Length: 4924029 (4.7M) [application/zip]\n",
      "Saving to: ‘ml-100k.zip’\n",
      "\n",
      "ml-100k.zip         100%[===================>]   4.70M  2.95MB/s    in 1.6s    \n",
      "\n",
      "2019-02-26 08:20:03 (2.95 MB/s) - ‘ml-100k.zip’ saved [4924029/4924029]\n",
      "\n"
     ]
    }
   ],
   "source": [
    "!wget http://files.grouplens.org/datasets/movielens/ml-100k.zip"
   ]
  },
  {
   "cell_type": "code",
   "execution_count": 3,
   "metadata": {
    "ExecuteTime": {
     "end_time": "2019-02-26T08:20:05.364934Z",
     "start_time": "2019-02-26T08:20:04.900601Z"
    }
   },
   "outputs": [
    {
     "name": "stdout",
     "output_type": "stream",
     "text": [
      "0_spark_trial_python2.ipynb\t3_spark_trial_more_stuff.py  ml-100k.zip\r\n",
      "1_spark_trial_python3.ipynb\t3_spark_trial_text.ipynb     README.txt\r\n",
      "2_neo4j_py2neo.ipynb\t\tdocker\r\n",
      "3_spark_trial_more_stuff.ipynb\tml-100k\r\n"
     ]
    }
   ],
   "source": [
    "!ls"
   ]
  },
  {
   "cell_type": "code",
   "execution_count": 4,
   "metadata": {
    "ExecuteTime": {
     "end_time": "2019-02-26T08:20:27.444647Z",
     "start_time": "2019-02-26T08:20:09.256761Z"
    },
    "scrolled": true
   },
   "outputs": [
    {
     "name": "stdout",
     "output_type": "stream",
     "text": [
      "Archive:  ml-100k.zip\n",
      "  inflating: ml-100k/allbut.pl       \n",
      "  inflating: ml-100k/mku.sh          \n",
      "  inflating: ml-100k/README          \n",
      "  inflating: ml-100k/u.data          \n",
      "  inflating: ml-100k/u.genre         \n",
      "  inflating: ml-100k/u.info          \n",
      "  inflating: ml-100k/u.item          \n",
      "  inflating: ml-100k/u.occupation    \n",
      "replace ml-100k/u.user? [y]es, [n]o, [A]ll, [N]one, [r]ename: ^C\n",
      "/bin/sh: 1: Syntax error: \"(\" unexpected\n"
     ]
    }
   ],
   "source": [
    "!unzip ml-100k.zip\n",
    "!rm ml-100k.zip\n",
    "!cd ml-100k\n",
    "!rm !(u.user)"
   ]
  },
  {
   "cell_type": "code",
   "execution_count": 5,
   "metadata": {
    "ExecuteTime": {
     "end_time": "2019-02-26T08:20:36.546971Z",
     "start_time": "2019-02-26T08:20:36.117976Z"
    }
   },
   "outputs": [
    {
     "name": "stdout",
     "output_type": "stream",
     "text": [
      "1|24|M|technician|85711\r\n",
      "2|53|F|other|94043\r\n",
      "3|23|M|writer|32067\r\n",
      "4|24|M|technician|43537\r\n",
      "5|33|F|other|15213\r\n",
      "6|42|M|executive|98101\r\n",
      "7|57|M|administrator|91344\r\n",
      "8|36|M|administrator|05201\r\n",
      "9|29|M|student|01002\r\n",
      "10|53|M|lawyer|90703\r\n"
     ]
    }
   ],
   "source": [
    "!head ml-100k/u.user"
   ]
  },
  {
   "cell_type": "code",
   "execution_count": 14,
   "metadata": {
    "ExecuteTime": {
     "end_time": "2019-02-26T07:43:25.933006Z",
     "start_time": "2019-02-26T07:43:24.603207Z"
    }
   },
   "outputs": [
    {
     "name": "stdout",
     "output_type": "stream",
     "text": [
      "sudo: hadoop: command not found\n",
      "sudo: hadoop: command not found\n",
      "sudo: hadoop: command not found\n"
     ]
    }
   ],
   "source": [
    "# run as root in iterm\n",
    "# !hadoop fs -mkdir -p /user/root/ml-100k\n",
    "# !hadoop fs -put ml-100k/u.user hdfs:///user/root/ml-100k\n",
    "# !hadoop fs -ls /user/root/ml-100k"
   ]
  },
  {
   "cell_type": "code",
   "execution_count": 6,
   "metadata": {
    "ExecuteTime": {
     "end_time": "2019-02-26T08:21:48.180204Z",
     "start_time": "2019-02-26T08:21:47.875300Z"
    }
   },
   "outputs": [],
   "source": [
    "import findspark\n",
    "findspark.init()\n",
    "import pyspark\n",
    "import random"
   ]
  },
  {
   "cell_type": "code",
   "execution_count": 7,
   "metadata": {
    "ExecuteTime": {
     "end_time": "2019-02-26T08:21:50.995666Z",
     "start_time": "2019-02-26T08:21:48.854063Z"
    }
   },
   "outputs": [],
   "source": [
    "conftfos = pyspark.SparkConf().setAll([('spark.executor.cores','1')])"
   ]
  },
  {
   "cell_type": "code",
   "execution_count": 8,
   "metadata": {
    "ExecuteTime": {
     "end_time": "2019-02-26T08:22:33.587107Z",
     "start_time": "2019-02-26T08:22:00.548445Z"
    },
    "scrolled": false
   },
   "outputs": [],
   "source": [
    "sc = pyspark.SparkContext(appName=\"3_more_stuff\", conf=conftfos)"
   ]
  },
  {
   "cell_type": "code",
   "execution_count": 9,
   "metadata": {
    "ExecuteTime": {
     "end_time": "2019-02-26T08:22:38.156142Z",
     "start_time": "2019-02-26T08:22:37.277480Z"
    }
   },
   "outputs": [],
   "source": [
    "userRDD = sc.textFile(\"hdfs:///user/root/ml-100k/u.user\")"
   ]
  },
  {
   "cell_type": "code",
   "execution_count": 10,
   "metadata": {
    "ExecuteTime": {
     "end_time": "2019-02-26T08:22:43.006865Z",
     "start_time": "2019-02-26T08:22:38.697700Z"
    }
   },
   "outputs": [
    {
     "data": {
      "text/plain": [
       "943"
      ]
     },
     "execution_count": 10,
     "metadata": {},
     "output_type": "execute_result"
    }
   ],
   "source": [
    "userRDD.count()"
   ]
  },
  {
   "cell_type": "code",
   "execution_count": 11,
   "metadata": {
    "ExecuteTime": {
     "end_time": "2019-02-26T08:22:51.066373Z",
     "start_time": "2019-02-26T08:22:50.470054Z"
    },
    "deletable": false,
    "editable": false,
    "run_control": {
     "frozen": true
    }
   },
   "outputs": [
    {
     "name": "stdout",
     "output_type": "stream",
     "text": [
      "total user count is  943\n",
      "total movie users profession wise  {'entertainment': 8, 'artist': 12, 'engineer': 23, 'administrator': 19, 'executive': 7, 'educator': 12, 'doctor': 2, 'homemaker': 3, 'lawyer': 4, 'scientist': 8, 'technician': 12, 'other': 38, 'librarian': 11, 'writer': 14, 'student': 116, 'programmer': 30, 'salesman': 2, 'none': 2, 'healthcare': 4, 'marketing': 5}\n",
      "under age users of the movie are  1\n",
      "over age users of the movie are  4\n"
     ]
    }
   ],
   "source": [
    "# # https://www.dezyre.com/apache-spark-tutorial/pyspark-tutorial\n",
    "# from pyspark import SparkContext, SparkConf\n",
    "\n",
    "# conf = SparkConf().setAppName('MyFirstStandaloneApp')\n",
    "# sc = SparkContext(conf=conf)\n",
    "\n",
    "# userRDD = sc.textFile(\"hdfs:///user/root/ml-100k/u.user\")\n",
    "\n",
    "def parse_N_calculate_age(data):\n",
    "             userid,age,gender,occupation,zip = data.split(\"|\")\n",
    "             return  userid, age_group(int(age)),gender,occupation,zip,int(age)\n",
    "\n",
    "def  age_group(age):\n",
    "        if age < 10 :\n",
    "           return '0-10'\n",
    "        elif age < 20:\n",
    "           return '10-20'\n",
    "        elif age < 30:\n",
    "           return '20-30'\n",
    "        elif age < 40:\n",
    "           return '30-40'\n",
    "        elif age < 50:\n",
    "           return '40-50'\n",
    "        elif age < 60:\n",
    "           return '50-60'\n",
    "        elif age < 70:\n",
    "           return '60-70'\n",
    "        elif age < 80:\n",
    "           return '70-80'\n",
    "        else :\n",
    "           return '80+'\n",
    "\n",
    "data_with_age_bucket = userRDD.map(parse_N_calculate_age)\n",
    "\n",
    "RDD_20_30 = data_with_age_bucket.filter(lambda line : '20-30' in line)\n",
    "\n",
    "freq = RDD_20_30.map(lambda line : line[3]).countByValue()\n",
    "\n",
    "print (\"total user count is \",userRDD.count())\n",
    "\n",
    "print (\"total movie users profession wise \",dict(freq))\n",
    "\n",
    "Under_age = sc.accumulator(0)\n",
    "Over_age = sc.accumulator(0)\n",
    "\n",
    "def outliers(data):\n",
    "    global Over_age, Under_age\n",
    "    age_grp = data[1]\n",
    "    if(age_grp == \"70-80\"):\n",
    "        Over_age +=1\n",
    "    if(age_grp == \"0-10\"):\n",
    "        Under_age +=1\n",
    "    return data\n",
    "\n",
    "df = data_with_age_bucket.map(outliers).collect()\n",
    "\n",
    "print (\"under age users of the movie are \",Under_age)\n",
    "print (\"over age users of the movie are \",Over_age)"
   ]
  },
  {
   "cell_type": "code",
   "execution_count": 12,
   "metadata": {
    "ExecuteTime": {
     "end_time": "2019-02-26T08:22:54.062940Z",
     "start_time": "2019-02-26T08:22:53.231906Z"
    },
    "scrolled": false
   },
   "outputs": [],
   "source": [
    "sc.stop()"
   ]
  },
  {
   "cell_type": "code",
   "execution_count": null,
   "metadata": {},
   "outputs": [],
   "source": []
  }
 ],
 "metadata": {
  "kernelspec": {
   "display_name": "Python 3",
   "language": "python",
   "name": "python3"
  },
  "language_info": {
   "codemirror_mode": {
    "name": "ipython",
    "version": 3
   },
   "file_extension": ".py",
   "mimetype": "text/x-python",
   "name": "python",
   "nbconvert_exporter": "python",
   "pygments_lexer": "ipython3",
   "version": "3.5.5"
  },
  "varInspector": {
   "cols": {
    "lenName": 16,
    "lenType": 16,
    "lenVar": 40
   },
   "kernels_config": {
    "python": {
     "delete_cmd_postfix": "",
     "delete_cmd_prefix": "del ",
     "library": "var_list.py",
     "varRefreshCmd": "print(var_dic_list())"
    },
    "r": {
     "delete_cmd_postfix": ") ",
     "delete_cmd_prefix": "rm(",
     "library": "var_list.r",
     "varRefreshCmd": "cat(var_dic_list()) "
    }
   },
   "types_to_exclude": [
    "module",
    "function",
    "builtin_function_or_method",
    "instance",
    "_Feature"
   ],
   "window_display": false
  }
 },
 "nbformat": 4,
 "nbformat_minor": 2
}
