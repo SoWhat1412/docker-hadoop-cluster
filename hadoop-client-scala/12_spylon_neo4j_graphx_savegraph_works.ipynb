{
 "cells": [
  {
   "cell_type": "markdown",
   "metadata": {},
   "source": [
    "## neo4j-contrib:neo4j-spark-connector versions\n",
    "https://mvnrepository.com/artifact/neo4j-contrib/neo4j-spark-connector"
   ]
  },
  {
   "cell_type": "code",
   "execution_count": 1,
   "metadata": {},
   "outputs": [],
   "source": [
    "%%init_spark\n",
    "# Configure Spark to use a local master\n",
    "launcher.master = \"local[*]\"\n",
    "\n",
    "# needs java 1.8\n",
    "# launcher.packages = \"neo4j-contrib:neo4j-spark-connector:2.4.0-M6\"\n",
    "\n",
    "# needs java 1.8\n",
    "# launcher.packages = \"neo4j-contrib:neo4j-spark-connector:2.2.1-M5\"\n",
    "\n",
    "# saveGraph mixes up id and number\n",
    "launcher.packages = \"neo4j-contrib:neo4j-spark-connector:2.1.0-M4\"\n",
    "\n",
    "# saveGraph mixes up id and number\n",
    "# launcher.packages = \"neo4j-contrib:neo4j-spark-connector:2.1.0-M3\"\n",
    "\n",
    "# doesnt have neo.saveGraph()\n",
    "# launcher.packages = \"neo4j-contrib:neo4j-spark-connector:2.0.0-M2\" \n",
    "\n",
    "# doesnt do neo = Neo4j(sc)\n",
    "# launcher.packages = \"neo4j-contrib:neo4j-spark-connector:2.0.0-M1\"  "
   ]
  },
  {
   "cell_type": "code",
   "execution_count": 2,
   "metadata": {},
   "outputs": [
    {
     "data": {
      "text/plain": [
       "Intitializing Scala interpreter ..."
      ]
     },
     "metadata": {},
     "output_type": "display_data"
    },
    {
     "data": {
      "text/plain": [
       "Spark Web UI available at http://172.18.0.7:4040\n",
       "SparkContext available as 'sc' (version = 2.0.0, master = local[*], app id = local-1551948518108)\n",
       "SparkSession available as 'spark'\n"
      ]
     },
     "metadata": {},
     "output_type": "display_data"
    },
    {
     "name": "stdout",
     "output_type": "stream",
     "text": [
      "local[*]\n"
     ]
    }
   ],
   "source": [
    "println(sc.master)\n",
    "// val rdd = sc.parallelize(0 to 999)\n",
    "// rdd.takeSample(false, 5)"
   ]
  },
  {
   "cell_type": "code",
   "execution_count": 3,
   "metadata": {},
   "outputs": [
    {
     "data": {
      "text/plain": [
       "import org.neo4j.spark._\n",
       "neo: org.neo4j.spark.Neo4j = org.neo4j.spark.Neo4j@5d27d30b\n",
       "import org.apache.spark.graphx._\n",
       "import org.apache.spark.graphx.lib._\n"
      ]
     },
     "execution_count": 3,
     "metadata": {},
     "output_type": "execute_result"
    }
   ],
   "source": [
    "import org.neo4j.spark._\n",
    "\n",
    "val neo = Neo4j(sc)\n",
    "\n",
    "import org.apache.spark.graphx._\n",
    "import org.apache.spark.graphx.lib._"
   ]
  },
  {
   "cell_type": "code",
   "execution_count": 4,
   "metadata": {},
   "outputs": [
    {
     "name": "stdout",
     "output_type": "stream",
     "text": [
      "10\n",
      "40\n"
     ]
    },
    {
     "data": {
      "text/plain": [
       "graphQuery: String = MATCH (n:Person)-[r:KNOWS]->(m:Person) RETURN n.number as source, m.number as target, type(r) as value\n",
       "graph: org.apache.spark.graphx.Graph[Long,String] = org.apache.spark.graphx.impl.GraphImpl@5e29a238\n"
      ]
     },
     "execution_count": 4,
     "metadata": {},
     "output_type": "execute_result"
    }
   ],
   "source": [
    "// load graph via Cypher query\n",
    "// val graphQuery = \"MATCH (n:Person)-[r:KNOWS]->(m:Person) RETURN id(n) as source, id(m) as target, type(r) as value SKIP {_skip} LIMIT {_limit}\"\n",
    "// val graph: Graph[Long, String] = neo.rels(graphQuery).partitions(7).batch(200).loadGraph\n",
    "val graphQuery = \"MATCH (n:Person)-[r:KNOWS]->(m:Person) RETURN n.number as source, m.number as target, type(r) as value\"\n",
    "val graph: Graph[Long, String] = neo.rels(graphQuery).partitions(2).batch(15).loadGraph\n",
    "println(graph.vertices.count)\n",
    "println(graph.edges.count)"
   ]
  },
  {
   "cell_type": "code",
   "execution_count": 5,
   "metadata": {},
   "outputs": [
    {
     "data": {
      "text/plain": [
       "graph_pagerank: org.apache.spark.graphx.Graph[Double,Double] = org.apache.spark.graphx.impl.GraphImpl@fa579ba\n"
      ]
     },
     "execution_count": 5,
     "metadata": {},
     "output_type": "execute_result"
    }
   ],
   "source": [
    "// val graph2_pagerank = PageRank.run(graph2,500)\n",
    "val graph_pagerank = PageRank.run(graph,10)"
   ]
  },
  {
   "cell_type": "code",
   "execution_count": 6,
   "metadata": {
    "scrolled": false
   },
   "outputs": [
    {
     "data": {
      "text/plain": [
       "res2: Array[org.apache.spark.graphx.Edge[String]] = Array(Edge(1,3,KNOWS), Edge(1,4,KNOWS), Edge(2,4,KNOWS), Edge(2,5,KNOWS), Edge(3,5,KNOWS), Edge(3,6,KNOWS), Edge(4,6,KNOWS), Edge(4,7,KNOWS), Edge(5,7,KNOWS), Edge(5,8,KNOWS), Edge(6,8,KNOWS), Edge(6,9,KNOWS), Edge(7,9,KNOWS), Edge(7,10,KNOWS), Edge(8,1,KNOWS), Edge(8,10,KNOWS), Edge(9,1,KNOWS), Edge(9,2,KNOWS), Edge(10,2,KNOWS), Edge(10,3,KNOWS), Edge(1,3,KNOWS), Edge(1,4,KNOWS), Edge(2,4,KNOWS), Edge(2,5,KNOWS), Edge(3,5,KNOWS), Edge(3,6,KNOWS), Edge(4,6,KNOWS), Edge(4,7,KNOWS), Edge(5,7,KNOWS), Edge(5,8,KNOWS), Edge(6,8,KNOWS), Edge(6,9,KNOWS), Edge(7,9,KNOWS), Edge(7,10,KNOWS), Edge(8,1,KNOWS), Edge(8,10,KNOWS), Edge(9,1,KNOWS), Edge(9,2,KNOWS), Edge(10,2,KNOWS), Edge(10,3,KNOWS))\n"
      ]
     },
     "execution_count": 6,
     "metadata": {},
     "output_type": "execute_result"
    }
   ],
   "source": [
    "graph.edges.collect()"
   ]
  },
  {
   "cell_type": "code",
   "execution_count": 7,
   "metadata": {},
   "outputs": [
    {
     "data": {
      "text/plain": [
       "res3: Array[(org.apache.spark.graphx.VertexId, Long)] = Array((4,7), (6,9), (8,1), (10,2), (2,5), (1,3), (3,6), (7,9), (9,1), (5,8))\n"
      ]
     },
     "execution_count": 7,
     "metadata": {},
     "output_type": "execute_result"
    }
   ],
   "source": [
    "graph.vertices.collect()"
   ]
  },
  {
   "cell_type": "code",
   "execution_count": 8,
   "metadata": {},
   "outputs": [
    {
     "data": {
      "text/plain": [
       "res4: Array[org.apache.spark.graphx.Edge[Double]] = Array(Edge(1,3,0.25), Edge(1,4,0.25), Edge(2,4,0.25), Edge(2,5,0.25), Edge(3,5,0.25), Edge(3,6,0.25), Edge(4,6,0.25), Edge(4,7,0.25), Edge(5,7,0.25), Edge(5,8,0.25), Edge(6,8,0.25), Edge(6,9,0.25), Edge(7,9,0.25), Edge(7,10,0.25), Edge(8,1,0.25), Edge(8,10,0.25), Edge(9,1,0.25), Edge(9,2,0.25), Edge(10,2,0.25), Edge(10,3,0.25), Edge(1,3,0.25), Edge(1,4,0.25), Edge(2,4,0.25), Edge(2,5,0.25), Edge(3,5,0.25), Edge(3,6,0.25), Edge(4,6,0.25), Edge(4,7,0.25), Edge(5,7,0.25), Edge(5,8,0.25), Edge(6,8,0.25), Edge(6,9,0.25), Edge(7,9,0.25), Edge(7,10,0.25), Edge(8,1,0.25), Edge(8,10,0.25), Edge(9,1,0.25), Edge(9,2,0.25), Edge(10,2,0.25), Edge(10,3,0.25))\n"
      ]
     },
     "execution_count": 8,
     "metadata": {},
     "output_type": "execute_result"
    }
   ],
   "source": [
    "graph_pagerank.edges.collect()"
   ]
  },
  {
   "cell_type": "code",
   "execution_count": 9,
   "metadata": {},
   "outputs": [
    {
     "data": {
      "text/plain": [
       "res5: Array[(org.apache.spark.graphx.VertexId, Double)] = Array((4,0.8326567563103858), (6,0.8326567563103858), (8,0.8326567563103858), (10,0.8326567563103858), (2,0.8326567563103858), (1,0.8326567563103858), (3,0.8326567563103858), (7,0.8326567563103858), (9,0.8326567563103858), (5,0.8326567563103858))\n"
      ]
     },
     "execution_count": 9,
     "metadata": {},
     "output_type": "execute_result"
    }
   ],
   "source": [
    "graph_pagerank.vertices.collect()"
   ]
  },
  {
   "cell_type": "code",
   "execution_count": null,
   "metadata": {},
   "outputs": [],
   "source": [
    "--"
   ]
  },
  {
   "cell_type": "code",
   "execution_count": null,
   "metadata": {},
   "outputs": [],
   "source": [
    "neo.saveGraph?"
   ]
  },
  {
   "cell_type": "code",
   "execution_count": 10,
   "metadata": {},
   "outputs": [
    {
     "data": {
      "text/plain": [
       "mypattern_cmon: org.neo4j.spark.Neo4j = org.neo4j.spark.Neo4j@5d27d30b\n"
      ]
     },
     "execution_count": 10,
     "metadata": {},
     "output_type": "execute_result"
    }
   ],
   "source": [
    "val mypattern_cmon = neo.pattern((\"Person\",\"number\"),(\"KNOWS\",null),(\"Person\",\"number\"))"
   ]
  },
  {
   "cell_type": "code",
   "execution_count": 11,
   "metadata": {},
   "outputs": [
    {
     "data": {
      "text/plain": [
       "res6: Long = 120\n"
      ]
     },
     "execution_count": 11,
     "metadata": {},
     "output_type": "execute_result"
    }
   ],
   "source": [
    "// uses pattern from above to save the data, merge parameter is false by default, only update existing nodes\n",
    "neo.saveGraph(graph_pagerank, \"rankcmon\", mypattern_cmon.pattern, merge = true)"
   ]
  },
  {
   "cell_type": "code",
   "execution_count": 12,
   "metadata": {},
   "outputs": [
    {
     "data": {
      "text/plain": [
       "res7: Long = 120\n"
      ]
     },
     "execution_count": 12,
     "metadata": {},
     "output_type": "execute_result"
    }
   ],
   "source": [
    "// uses pattern from above to save the data, merge parameter is false by default, only update existing nodes\n",
    "neo.saveGraph(graph_pagerank, \"rankcmon\")"
   ]
  },
  {
   "cell_type": "code",
   "execution_count": null,
   "metadata": {},
   "outputs": [],
   "source": [
    "// uses pattern from parameter to save the data, merge = true also create new nodes and relationships\n",
    "neo.saveGraph(graph, \"rank\",neo.pattern((\"Person\",\"id\"),(\"FRIEND\",\"years\"),(\"Person\",\"id\")), merge = true)"
   ]
  },
  {
   "cell_type": "code",
   "execution_count": null,
   "metadata": {},
   "outputs": [],
   "source": []
  },
  {
   "cell_type": "code",
   "execution_count": null,
   "metadata": {},
   "outputs": [],
   "source": []
  },
  {
   "cell_type": "code",
   "execution_count": null,
   "metadata": {},
   "outputs": [],
   "source": []
  }
 ],
 "metadata": {
  "kernelspec": {
   "display_name": "spylon-kernel",
   "language": "scala",
   "name": "spylon-kernel"
  },
  "language_info": {
   "codemirror_mode": "text/x-scala",
   "file_extension": ".scala",
   "help_links": [
    {
     "text": "MetaKernel Magics",
     "url": "https://github.com/calysto/metakernel/blob/master/metakernel/magics/README.md"
    }
   ],
   "mimetype": "text/x-scala",
   "name": "scala",
   "pygments_lexer": "scala",
   "version": "0.4.1"
  },
  "varInspector": {
   "cols": {
    "lenName": 16,
    "lenType": 16,
    "lenVar": 40
   },
   "kernels_config": {
    "python": {
     "delete_cmd_postfix": "",
     "delete_cmd_prefix": "del ",
     "library": "var_list.py",
     "varRefreshCmd": "print(var_dic_list())"
    },
    "r": {
     "delete_cmd_postfix": ") ",
     "delete_cmd_prefix": "rm(",
     "library": "var_list.r",
     "varRefreshCmd": "cat(var_dic_list()) "
    }
   },
   "types_to_exclude": [
    "module",
    "function",
    "builtin_function_or_method",
    "instance",
    "_Feature"
   ],
   "window_display": false
  }
 },
 "nbformat": 4,
 "nbformat_minor": 2
}
