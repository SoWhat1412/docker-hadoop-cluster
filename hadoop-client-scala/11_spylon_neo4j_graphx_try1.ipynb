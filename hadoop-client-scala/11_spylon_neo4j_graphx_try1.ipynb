{
 "cells": [
  {
   "cell_type": "markdown",
   "metadata": {},
   "source": [
    "## neo4j-contrib:neo4j-spark-connector versions\n",
    "https://mvnrepository.com/artifact/neo4j-contrib/neo4j-spark-connector"
   ]
  },
  {
   "cell_type": "code",
   "execution_count": 1,
   "metadata": {},
   "outputs": [],
   "source": [
    "%%init_spark\n",
    "# Configure Spark to use a local master\n",
    "launcher.master = \"local[*]\"\n",
    "\n",
    "# needs java 1.8\n",
    "# launcher.packages = \"neo4j-contrib:neo4j-spark-connector:2.4.0-M6\"\n",
    "\n",
    "# needs java 1.8\n",
    "# launcher.packages = \"neo4j-contrib:neo4j-spark-connector:2.2.1-M5\"\n",
    "\n",
    "# saveGraph mixes up id and number\n",
    "launcher.packages = \"neo4j-contrib:neo4j-spark-connector:2.1.0-M4\"\n",
    "\n",
    "# saveGraph mixes up id and number\n",
    "# launcher.packages = \"neo4j-contrib:neo4j-spark-connector:2.1.0-M3\"\n",
    "\n",
    "# doesnt have neo.saveGraph()\n",
    "# launcher.packages = \"neo4j-contrib:neo4j-spark-connector:2.0.0-M2\" \n",
    "\n",
    "# doesnt do neo = Neo4j(sc)\n",
    "# launcher.packages = \"neo4j-contrib:neo4j-spark-connector:2.0.0-M1\"  "
   ]
  },
  {
   "cell_type": "code",
   "execution_count": 2,
   "metadata": {},
   "outputs": [
    {
     "data": {
      "text/plain": [
       "Intitializing Scala interpreter ..."
      ]
     },
     "metadata": {},
     "output_type": "display_data"
    },
    {
     "data": {
      "text/plain": [
       "Spark Web UI available at http://172.18.0.7:4040\n",
       "SparkContext available as 'sc' (version = 2.0.0, master = local[*], app id = local-1551949449714)\n",
       "SparkSession available as 'spark'\n"
      ]
     },
     "metadata": {},
     "output_type": "display_data"
    },
    {
     "name": "stdout",
     "output_type": "stream",
     "text": [
      "local[*]\n"
     ]
    }
   ],
   "source": [
    "println(sc.master)\n",
    "// val rdd = sc.parallelize(0 to 999)\n",
    "// rdd.takeSample(false, 5)"
   ]
  },
  {
   "cell_type": "code",
   "execution_count": 3,
   "metadata": {},
   "outputs": [
    {
     "data": {
      "text/plain": [
       "import org.neo4j.spark._\n",
       "neo: org.neo4j.spark.Neo4j = org.neo4j.spark.Neo4j@3ee7e8cb\n",
       "import org.apache.spark.graphx._\n",
       "import org.apache.spark.graphx.lib._\n"
      ]
     },
     "execution_count": 3,
     "metadata": {},
     "output_type": "execute_result"
    }
   ],
   "source": [
    "import org.neo4j.spark._\n",
    "\n",
    "val neo = Neo4j(sc)\n",
    "\n",
    "import org.apache.spark.graphx._\n",
    "import org.apache.spark.graphx.lib._"
   ]
  },
  {
   "cell_type": "code",
   "execution_count": 4,
   "metadata": {},
   "outputs": [],
   "source": [
    "// // load graph via Cypher query\n",
    "// // val graphQuery = \"MATCH (n:Person)-[r:KNOWS]->(m:Person) RETURN id(n) as source, id(m) as target, type(r) as value SKIP {_skip} LIMIT {_limit}\"\n",
    "// // val graph: Graph[Long, String] = neo.rels(graphQuery).partitions(7).batch(200).loadGraph\n",
    "// val graphQuery = \"MATCH (n:Person)-[r:KNOWS]->(m:Person) RETURN id(n) as source, id(m) as target, type(r) as value\"\n",
    "// val graph: Graph[Long, String] = neo.rels(graphQuery).partitions(1).batch(200).loadGraph\n",
    "// println(graph.vertices.count)\n",
    "// println(graph.edges.count)"
   ]
  },
  {
   "cell_type": "code",
   "execution_count": 5,
   "metadata": {},
   "outputs": [
    {
     "data": {
      "text/plain": [
       "mypattern: org.neo4j.spark.Neo4j = org.neo4j.spark.Neo4j@3ee7e8cb\n",
       "graph2: org.apache.spark.graphx.Graph[Long,Long] = org.apache.spark.graphx.impl.GraphImpl@7a06b483\n"
      ]
     },
     "execution_count": 5,
     "metadata": {},
     "output_type": "execute_result"
    }
   ],
   "source": [
    "val mypattern = neo.pattern((\"Person\",\"id\"),(\"KNOWS\",\"years\"),(\"Person\",\"id\"))\n",
    "val graph2 = mypattern.partitions(2).batch(15).loadGraph[Long,Long]"
   ]
  },
  {
   "cell_type": "code",
   "execution_count": 6,
   "metadata": {
    "scrolled": true
   },
   "outputs": [
    {
     "name": "stdout",
     "output_type": "stream",
     "text": [
      "10\n",
      "20\n"
     ]
    }
   ],
   "source": [
    "println(graph2.vertices.count)\n",
    "println(graph2.edges.count)"
   ]
  },
  {
   "cell_type": "code",
   "execution_count": 7,
   "metadata": {},
   "outputs": [
    {
     "data": {
      "text/plain": [
       "graph2_pagerank: org.apache.spark.graphx.Graph[Double,Double] = org.apache.spark.graphx.impl.GraphImpl@3e9cc541\n"
      ]
     },
     "execution_count": 7,
     "metadata": {},
     "output_type": "execute_result"
    }
   ],
   "source": [
    "// val graph2_pagerank = PageRank.run(graph2,500)\n",
    "val graph2_pagerank = PageRank.run(graph2,10)"
   ]
  },
  {
   "cell_type": "code",
   "execution_count": 8,
   "metadata": {
    "scrolled": false
   },
   "outputs": [
    {
     "data": {
      "text/plain": [
       "res3: Array[org.apache.spark.graphx.Edge[Long]] = Array(Edge(53,55,2), Edge(53,56,3), Edge(54,56,2), Edge(54,57,3), Edge(55,57,2), Edge(57,80,3), Edge(58,81,3), Edge(59,81,2), Edge(59,82,3), Edge(55,58,3), Edge(56,58,2), Edge(56,59,3), Edge(57,59,2), Edge(58,80,2), Edge(80,53,7), Edge(80,82,2), Edge(81,53,8), Edge(81,54,7), Edge(82,54,8), Edge(82,55,7))\n"
      ]
     },
     "execution_count": 8,
     "metadata": {},
     "output_type": "execute_result"
    }
   ],
   "source": [
    "graph2.edges.collect()"
   ]
  },
  {
   "cell_type": "code",
   "execution_count": 9,
   "metadata": {},
   "outputs": [
    {
     "data": {
      "text/plain": [
       "res4: Array[(org.apache.spark.graphx.VertexId, Long)] = Array((56,0), (80,0), (81,0), (53,0), (57,0), (82,0), (54,0), (58,0), (55,0), (59,0))\n"
      ]
     },
     "execution_count": 9,
     "metadata": {},
     "output_type": "execute_result"
    }
   ],
   "source": [
    "graph2.vertices.collect()"
   ]
  },
  {
   "cell_type": "code",
   "execution_count": 10,
   "metadata": {},
   "outputs": [
    {
     "data": {
      "text/plain": [
       "res5: Array[org.apache.spark.graphx.Edge[Double]] = Array(Edge(53,55,0.5), Edge(53,56,0.5), Edge(54,56,0.5), Edge(54,57,0.5), Edge(55,57,0.5), Edge(57,80,0.5), Edge(58,81,0.5), Edge(59,81,0.5), Edge(59,82,0.5), Edge(55,58,0.5), Edge(56,58,0.5), Edge(56,59,0.5), Edge(57,59,0.5), Edge(58,80,0.5), Edge(80,53,0.5), Edge(80,82,0.5), Edge(81,53,0.5), Edge(81,54,0.5), Edge(82,54,0.5), Edge(82,55,0.5))\n"
      ]
     },
     "execution_count": 10,
     "metadata": {},
     "output_type": "execute_result"
    }
   ],
   "source": [
    "graph2_pagerank.edges.collect()"
   ]
  },
  {
   "cell_type": "code",
   "execution_count": 11,
   "metadata": {},
   "outputs": [
    {
     "data": {
      "text/plain": [
       "res6: Array[(org.apache.spark.graphx.VertexId, Double)] = Array((56,0.8326567563103858), (80,0.8326567563103858), (81,0.8326567563103858), (53,0.8326567563103858), (57,0.8326567563103858), (82,0.8326567563103858), (54,0.8326567563103858), (58,0.8326567563103858), (55,0.8326567563103858), (59,0.8326567563103858))\n"
      ]
     },
     "execution_count": 11,
     "metadata": {},
     "output_type": "execute_result"
    }
   ],
   "source": [
    "graph2_pagerank.vertices.collect()"
   ]
  },
  {
   "cell_type": "code",
   "execution_count": 12,
   "metadata": {},
   "outputs": [
    {
     "data": {
      "text/plain": [
       "res7: Array[(org.apache.spark.graphx.VertexId, Long)] = Array((56,0), (80,0), (81,0), (53,0), (57,0), (82,0), (54,0), (58,0), (55,0), (59,0))\n"
      ]
     },
     "execution_count": 12,
     "metadata": {},
     "output_type": "execute_result"
    }
   ],
   "source": [
    "graph2.vertices.sortBy(_._2).take(25)"
   ]
  },
  {
   "cell_type": "code",
   "execution_count": null,
   "metadata": {},
   "outputs": [],
   "source": []
  },
  {
   "cell_type": "code",
   "execution_count": 13,
   "metadata": {},
   "outputs": [
    {
     "ename": "<console>",
     "evalue": "35: error: not found: value --",
     "output_type": "error",
     "traceback": [
      "<console>:35: error: not found: value --",
      "       -- Stuff below doesnt work correctly",
      "       ^",
      "<console>:35: error: not found: value below",
      "       -- Stuff below doesnt work correctly",
      "                ^",
      "<console>:35: error: not found: value work",
      "       -- Stuff below doesnt work correctly",
      "                             ^",
      ""
     ]
    }
   ],
   "source": [
    "-- Stuff below doesnt work correctly"
   ]
  },
  {
   "cell_type": "code",
   "execution_count": null,
   "metadata": {},
   "outputs": [],
   "source": [
    "val mypattern_cmon = neo.pattern(\"Person\",Seq(\"KNOWS\"),\"Person\")"
   ]
  },
  {
   "cell_type": "code",
   "execution_count": null,
   "metadata": {},
   "outputs": [],
   "source": [
    "// uses pattern from above to save the data, merge parameter is false by default, only update existing nodes\n",
    "neo.saveGraph(graph2_pagerank, \"rankcmon\", mypattern_cmon.pattern, merge = true)"
   ]
  },
  {
   "cell_type": "code",
   "execution_count": null,
   "metadata": {},
   "outputs": [],
   "source": [
    "// uses pattern from above to save the data, merge parameter is false by default, only update existing nodes\n",
    "neo.saveGraph(graph2_pagerank, \"rankcmon\")"
   ]
  },
  {
   "cell_type": "code",
   "execution_count": null,
   "metadata": {},
   "outputs": [],
   "source": [
    "// uses pattern from parameter to save the data, merge = true also create new nodes and relationships\n",
    "neo.saveGraph(graph, \"rank\",neo.pattern((\"Person\",\"id\"),(\"FRIEND\",\"years\"),(\"Person\",\"id\")), merge = true)"
   ]
  },
  {
   "cell_type": "code",
   "execution_count": null,
   "metadata": {},
   "outputs": [],
   "source": []
  },
  {
   "cell_type": "code",
   "execution_count": null,
   "metadata": {},
   "outputs": [],
   "source": []
  },
  {
   "cell_type": "code",
   "execution_count": null,
   "metadata": {},
   "outputs": [],
   "source": []
  }
 ],
 "metadata": {
  "kernelspec": {
   "display_name": "spylon-kernel",
   "language": "scala",
   "name": "spylon-kernel"
  },
  "language_info": {
   "codemirror_mode": "text/x-scala",
   "file_extension": ".scala",
   "help_links": [
    {
     "text": "MetaKernel Magics",
     "url": "https://github.com/calysto/metakernel/blob/master/metakernel/magics/README.md"
    }
   ],
   "mimetype": "text/x-scala",
   "name": "scala",
   "pygments_lexer": "scala",
   "version": "0.4.1"
  },
  "varInspector": {
   "cols": {
    "lenName": 16,
    "lenType": 16,
    "lenVar": 40
   },
   "kernels_config": {
    "python": {
     "delete_cmd_postfix": "",
     "delete_cmd_prefix": "del ",
     "library": "var_list.py",
     "varRefreshCmd": "print(var_dic_list())"
    },
    "r": {
     "delete_cmd_postfix": ") ",
     "delete_cmd_prefix": "rm(",
     "library": "var_list.r",
     "varRefreshCmd": "cat(var_dic_list()) "
    }
   },
   "types_to_exclude": [
    "module",
    "function",
    "builtin_function_or_method",
    "instance",
    "_Feature"
   ],
   "window_display": false
  }
 },
 "nbformat": 4,
 "nbformat_minor": 2
}
