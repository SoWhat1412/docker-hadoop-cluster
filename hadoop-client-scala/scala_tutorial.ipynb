{
 "cells": [
  {
   "cell_type": "code",
   "execution_count": 1,
   "metadata": {},
   "outputs": [],
   "source": [
    "%%init_spark\n",
    "# Configure Spark to use a local master\n",
    "launcher.master = \"local[*]\""
   ]
  },
  {
   "cell_type": "code",
   "execution_count": 2,
   "metadata": {},
   "outputs": [
    {
     "data": {
      "text/plain": [
       "Intitializing Scala interpreter ..."
      ]
     },
     "metadata": {},
     "output_type": "display_data"
    },
    {
     "data": {
      "text/plain": [
       "Spark Web UI available at http://172.18.0.6:4041\n",
       "SparkContext available as 'sc' (version = 2.0.0, master = local[*], app id = local-1552296991423)\n",
       "SparkSession available as 'spark'\n"
      ]
     },
     "metadata": {},
     "output_type": "display_data"
    },
    {
     "name": "stdout",
     "output_type": "stream",
     "text": [
      "local[*]\n"
     ]
    }
   ],
   "source": [
    "println(sc.master)"
   ]
  },
  {
   "cell_type": "code",
   "execution_count": 3,
   "metadata": {},
   "outputs": [
    {
     "data": {
      "text/plain": [
       "res1: Int = 11\n"
      ]
     },
     "execution_count": 3,
     "metadata": {},
     "output_type": "execute_result"
    }
   ],
   "source": [
    "10 + 3 *2 /4"
   ]
  },
  {
   "cell_type": "code",
   "execution_count": 4,
   "metadata": {},
   "outputs": [
    {
     "data": {
      "text/plain": [
       "res2: String = Your ans is 11\n"
      ]
     },
     "execution_count": 4,
     "metadata": {},
     "output_type": "execute_result"
    }
   ],
   "source": [
    "\"Your ans is \" + res1"
   ]
  },
  {
   "cell_type": "code",
   "execution_count": 5,
   "metadata": {},
   "outputs": [
    {
     "data": {
      "text/plain": [
       "large_num: scala.math.BigInt = 24214123142141241241\n"
      ]
     },
     "execution_count": 5,
     "metadata": {},
     "output_type": "execute_result"
    }
   ],
   "source": [
    "val large_num = BigInt(\"24214123142141241241\")"
   ]
  },
  {
   "cell_type": "code",
   "execution_count": 6,
   "metadata": {},
   "outputs": [
    {
     "data": {
      "text/plain": [
       "x: Int = 3\n"
      ]
     },
     "execution_count": 6,
     "metadata": {},
     "output_type": "execute_result"
    }
   ],
   "source": [
    "var x = 3"
   ]
  },
  {
   "cell_type": "code",
   "execution_count": 7,
   "metadata": {},
   "outputs": [
    {
     "data": {
      "text/plain": [
       "x: Int = 5\n"
      ]
     },
     "execution_count": 7,
     "metadata": {},
     "output_type": "execute_result"
    }
   ],
   "source": [
    "x = x+2"
   ]
  },
  {
   "cell_type": "code",
   "execution_count": 8,
   "metadata": {},
   "outputs": [
    {
     "data": {
      "text/plain": [
       "import scala.math\n",
       "res3: Int = 4\n"
      ]
     },
     "execution_count": 8,
     "metadata": {},
     "output_type": "execute_result"
    }
   ],
   "source": [
    "import scala.math\n",
    "scala.math.abs(-4)"
   ]
  },
  {
   "cell_type": "code",
   "execution_count": 9,
   "metadata": {},
   "outputs": [
    {
     "data": {
      "text/plain": [
       "res4: Array[String] = Array(indexOf, indexOf, indexOf, indexOf, lastIndexOf, lastIndexOf, lastIndexOf, lastIndexOf)\n"
      ]
     },
     "execution_count": 9,
     "metadata": {},
     "output_type": "execute_result"
    }
   ],
   "source": [
    "// https://stackoverflow.com/questions/2886446/how-to-get-methods-list-in-scala\n",
    "\"\"\n",
    ".getClass.getMethods.map(_.getName) // methods\n",
    ".sorted                             // sort\n",
    ".filter(_ matches \"(?i).*index.*\")  // grep /index/i"
   ]
  },
  {
   "cell_type": "code",
   "execution_count": 10,
   "metadata": {},
   "outputs": [
    {
     "name": "stdout",
     "output_type": "stream",
     "text": [
      "file:/usr/local/spark/conf/\n",
      "file:/usr/local/spark/jars/commons-beanutils-1.7.0.jar\n",
      "file:/usr/local/spark/jars/stax-api-1.0-2.jar\n",
      "file:/usr/local/spark/jars/paranamer-2.3.jar\n",
      "file:/usr/local/spark/jars/hive-beeline-1.2.1.spark2.jar\n",
      "file:/usr/local/spark/jars/commons-net-2.2.jar\n",
      "file:/usr/local/spark/jars/json4s-core_2.11-3.2.11.jar\n",
      "file:/usr/local/spark/jars/jodd-core-3.5.2.jar\n",
      "file:/usr/local/spark/jars/parquet-format-2.3.0-incubating.jar\n",
      "file:/usr/local/spark/jars/commons-collections-3.2.2.jar\n",
      "file:/usr/local/spark/jars/minlog-1.3.0.jar\n",
      "file:/usr/local/spark/jars/parquet-encoding-1.7.0.jar\n",
      "file:/usr/local/spark/jars/hadoop-hdfs-2.7.2.jar\n",
      "file:/usr/local/spark/jars/slf4j-api-1.7.16.jar\n",
      "file:/usr/local/spark/jars/commons-httpclient-3.1.jar\n",
      "file:/usr/local/spark/jars/antlr-2.7.7.jar\n",
      "file:/usr/local/spark/jars/commons-compress-1.4.1.jar\n",
      "file:/usr/local/spark/jars/spark-sql_2.11-2.0.0.jar\n",
      "file:/usr/local/spark/jars/scala-xml_2.11-1.0.2.jar\n",
      "file:/usr/local/spark/jars/ivy-2.4.0.jar\n",
      "file:/usr/local/spark/jars/scala-reflect-2.11.8.jar\n",
      "file:/usr/local/spark/jars/javax.inject-2.4.0-b34.jar\n",
      "file:/usr/local/spark/jars/stream-2.7.0.jar\n",
      "file:/usr/local/spark/jars/netty-all-4.0.29.Final.jar\n",
      "file:/usr/local/spark/jars/calcite-core-1.2.0-incubating.jar\n",
      "file:/usr/local/spark/jars/javolution-5.5.1.jar\n",
      "file:/usr/local/spark/jars/base64-2.3.8.jar\n",
      "file:/usr/local/spark/jars/apacheds-kerberos-codec-2.0.0-M15.jar\n",
      "file:/usr/local/spark/jars/commons-lang-2.6.jar\n",
      "file:/usr/local/spark/jars/hadoop-mapreduce-client-common-2.7.2.jar\n",
      "file:/usr/local/spark/jars/spark-mllib-local_2.11-2.0.0.jar\n",
      "file:/usr/local/spark/jars/xbean-asm5-shaded-4.4.jar\n",
      "file:/usr/local/spark/jars/lz4-1.3.0.jar\n",
      "file:/usr/local/spark/jars/oro-2.0.8.jar\n",
      "file:/usr/local/spark/jars/commons-beanutils-core-1.8.0.jar\n",
      "file:/usr/local/spark/jars/antlr-runtime-3.4.jar\n",
      "file:/usr/local/spark/jars/breeze-macros_2.11-0.11.2.jar\n",
      "file:/usr/local/spark/jars/commons-io-2.4.jar\n",
      "file:/usr/local/spark/jars/hadoop-client-2.7.2.jar\n",
      "file:/usr/local/spark/jars/hadoop-yarn-server-web-proxy-2.7.2.jar\n",
      "file:/usr/local/spark/jars/compress-lzf-1.0.3.jar\n",
      "file:/usr/local/spark/jars/jersey-common-2.22.2.jar\n",
      "file:/usr/local/spark/jars/spark-tags_2.11-2.0.0.jar\n",
      "file:/usr/local/spark/jars/json-20090211.jar\n",
      "file:/usr/local/spark/jars/javax.servlet-api-3.1.0.jar\n",
      "file:/usr/local/spark/jars/httpcore-4.4.4.jar\n",
      "file:/usr/local/spark/jars/eigenbase-properties-1.1.5.jar\n",
      "file:/usr/local/spark/jars/javax.inject-1.jar\n",
      "file:/usr/local/spark/jars/parquet-column-1.7.0.jar\n",
      "file:/usr/local/spark/jars/parquet-hadoop-bundle-1.6.0.jar\n",
      "file:/usr/local/spark/jars/avro-ipc-1.7.7.jar\n",
      "file:/usr/local/spark/jars/jline-2.12.jar\n",
      "file:/usr/local/spark/jars/jsr305-1.3.9.jar\n",
      "file:/usr/local/spark/jars/jersey-client-2.22.2.jar\n",
      "file:/usr/local/spark/jars/arpack_combined_all-0.1.jar\n",
      "file:/usr/local/spark/jars/commons-pool-1.5.4.jar\n",
      "file:/usr/local/spark/jars/spark-graphx_2.11-2.0.0.jar\n",
      "file:/usr/local/spark/jars/avro-mapred-1.7.7-hadoop2.jar\n",
      "file:/usr/local/spark/jars/hadoop-mapreduce-client-app-2.7.2.jar\n",
      "file:/usr/local/spark/jars/snappy-java-1.1.2.4.jar\n",
      "file:/usr/local/spark/jars/spire-macros_2.11-0.7.4.jar\n",
      "file:/usr/local/spark/jars/spark-core_2.11-2.0.0.jar\n",
      "file:/usr/local/spark/jars/protobuf-java-2.5.0.jar\n",
      "file:/usr/local/spark/jars/jackson-core-2.6.5.jar\n",
      "file:/usr/local/spark/jars/ST4-4.0.4.jar\n",
      "file:/usr/local/spark/jars/htrace-core-3.1.0-incubating.jar\n",
      "file:/usr/local/spark/jars/curator-client-2.6.0.jar\n",
      "file:/usr/local/spark/jars/JavaEWAH-0.3.2.jar\n",
      "file:/usr/local/spark/jars/jetty-util-6.1.26.jar\n",
      "file:/usr/local/spark/jars/xmlenc-0.52.jar\n",
      "file:/usr/local/spark/jars/commons-codec-1.10.jar\n",
      "file:/usr/local/spark/jars/json4s-ast_2.11-3.2.11.jar\n",
      "file:/usr/local/spark/jars/jackson-annotations-2.6.5.jar\n",
      "file:/usr/local/spark/jars/pmml-schema-1.2.15.jar\n",
      "file:/usr/local/spark/jars/httpclient-4.5.2.jar\n",
      "file:/usr/local/spark/jars/commons-math3-3.4.1.jar\n",
      "file:/usr/local/spark/jars/metrics-json-3.1.2.jar\n",
      "file:/usr/local/spark/jars/hadoop-annotations-2.7.2.jar\n",
      "file:/usr/local/spark/jars/opencsv-2.3.jar\n",
      "file:/usr/local/spark/jars/activation-1.1.1.jar\n",
      "file:/usr/local/spark/jars/parquet-common-1.7.0.jar\n",
      "file:/usr/local/spark/jars/aopalliance-1.0.jar\n",
      "file:/usr/local/spark/jars/hive-exec-1.2.1.spark2.jar\n",
      "file:/usr/local/spark/jars/datanucleus-core-3.2.10.jar\n",
      "file:/usr/local/spark/jars/leveldbjni-all-1.8.jar\n",
      "file:/usr/local/spark/jars/jackson-xc-1.9.13.jar\n",
      "file:/usr/local/spark/jars/spark-streaming_2.11-2.0.0.jar\n",
      "file:/usr/local/spark/jars/guice-servlet-3.0.jar\n",
      "file:/usr/local/spark/jars/metrics-jvm-3.1.2.jar\n",
      "file:/usr/local/spark/jars/jackson-core-asl-1.9.13.jar\n",
      "file:/usr/local/spark/jars/super-csv-2.2.0.jar\n",
      "file:/usr/local/spark/jars/netty-3.8.0.Final.jar\n",
      "file:/usr/local/spark/jars/jackson-mapper-asl-1.9.13.jar\n",
      "file:/usr/local/spark/jars/commons-dbcp-1.4.jar\n",
      "file:/usr/local/spark/jars/hadoop-auth-2.7.2.jar\n",
      "file:/usr/local/spark/jars/jackson-jaxrs-1.9.13.jar\n",
      "file:/usr/local/spark/jars/apacheds-i18n-2.0.0-M15.jar\n",
      "file:/usr/local/spark/jars/jetty-6.1.26.jar\n",
      "file:/usr/local/spark/jars/jul-to-slf4j-1.7.16.jar\n",
      "file:/usr/local/spark/jars/xercesImpl-2.9.1.jar\n",
      "file:/usr/local/spark/jars/hk2-api-2.4.0-b34.jar\n",
      "file:/usr/local/spark/jars/datanucleus-rdbms-3.2.9.jar\n",
      "file:/usr/local/spark/jars/spark-repl_2.11-2.0.0.jar\n",
      "file:/usr/local/spark/jars/py4j-0.10.1.jar\n",
      "file:/usr/local/spark/jars/json4s-jackson_2.11-3.2.11.jar\n",
      "file:/usr/local/spark/jars/curator-recipes-2.6.0.jar\n",
      "file:/usr/local/spark/jars/spark-sketch_2.11-2.0.0.jar\n",
      "file:/usr/local/spark/jars/hk2-utils-2.4.0-b34.jar\n",
      "file:/usr/local/spark/jars/jta-1.1.jar\n",
      "file:/usr/local/spark/jars/spark-hive_2.11-2.0.0.jar\n",
      "file:/usr/local/spark/jars/objenesis-2.1.jar\n",
      "file:/usr/local/spark/jars/mail-1.4.7.jar\n",
      "file:/usr/local/spark/jars/joda-time-2.9.3.jar\n",
      "file:/usr/local/spark/jars/hadoop-mapreduce-client-shuffle-2.7.2.jar\n",
      "file:/usr/local/spark/jars/javax.annotation-api-1.2.jar\n",
      "file:/usr/local/spark/jars/javassist-3.18.1-GA.jar\n",
      "file:/usr/local/spark/jars/mx4j-3.0.2.jar\n",
      "file:/usr/local/spark/jars/calcite-avatica-1.2.0-incubating.jar\n",
      "file:/usr/local/spark/jars/commons-cli-1.2.jar\n",
      "file:/usr/local/spark/jars/api-asn1-api-1.0.0-M20.jar\n",
      "file:/usr/local/spark/jars/pmml-model-1.2.15.jar\n",
      "file:/usr/local/spark/jars/pyrolite-4.9.jar\n",
      "file:/usr/local/spark/jars/mesos-0.21.1-shaded-protobuf.jar\n",
      "file:/usr/local/spark/jars/xz-1.0.jar\n",
      "file:/usr/local/spark/jars/hive-metastore-1.2.1.spark2.jar\n",
      "file:/usr/local/spark/jars/zookeeper-3.4.6.jar\n",
      "file:/usr/local/spark/jars/bcprov-jdk15on-1.51.jar\n",
      "file:/usr/local/spark/jars/slf4j-log4j12-1.7.16.jar\n",
      "file:/usr/local/spark/jars/jersey-guava-2.22.2.jar\n",
      "file:/usr/local/spark/jars/jersey-container-servlet-core-2.22.2.jar\n",
      "file:/usr/local/spark/jars/metrics-graphite-3.1.2.jar\n",
      "file:/usr/local/spark/jars/gson-2.2.4.jar\n",
      "file:/usr/local/spark/jars/janino-2.7.8.jar\n",
      "file:/usr/local/spark/jars/spark-network-shuffle_2.11-2.0.0.jar\n",
      "file:/usr/local/spark/jars/libfb303-0.9.2.jar\n",
      "file:/usr/local/spark/jars/RoaringBitmap-0.5.11.jar\n",
      "file:/usr/local/spark/jars/osgi-resource-locator-1.0.1.jar\n",
      "file:/usr/local/spark/jars/jcl-over-slf4j-1.7.16.jar\n",
      "file:/usr/local/spark/jars/hk2-locator-2.4.0-b34.jar\n",
      "file:/usr/local/spark/jars/commons-compiler-2.7.6.jar\n",
      "file:/usr/local/spark/jars/scalap-2.11.8.jar\n",
      "file:/usr/local/spark/jars/jackson-module-paranamer-2.6.5.jar\n",
      "file:/usr/local/spark/jars/commons-logging-1.1.3.jar\n",
      "file:/usr/local/spark/jars/kryo-shaded-3.0.3.jar\n",
      "file:/usr/local/spark/jars/spark-hive-thriftserver_2.11-2.0.0.jar\n",
      "file:/usr/local/spark/jars/libthrift-0.9.2.jar\n",
      "file:/usr/local/spark/jars/hadoop-mapreduce-client-core-2.7.2.jar\n",
      "file:/usr/local/spark/jars/log4j-1.2.17.jar\n",
      "file:/usr/local/spark/jars/spark-catalyst_2.11-2.0.0.jar\n",
      "file:/usr/local/spark/jars/api-util-1.0.0-M20.jar\n",
      "file:/usr/local/spark/jars/hadoop-yarn-server-common-2.7.2.jar\n",
      "file:/usr/local/spark/jars/scala-compiler-2.11.8.jar\n",
      "file:/usr/local/spark/jars/spark-unsafe_2.11-2.0.0.jar\n",
      "file:/usr/local/spark/jars/antlr4-runtime-4.5.3.jar\n",
      "file:/usr/local/spark/jars/hive-jdbc-1.2.1.spark2.jar\n",
      "file:/usr/local/spark/jars/avro-1.7.7.jar\n",
      "file:/usr/local/spark/jars/hadoop-common-2.7.2.jar\n",
      "file:/usr/local/spark/jars/stax-api-1.0.1.jar\n",
      "file:/usr/local/spark/jars/scala-library-2.11.8.jar\n",
      "file:/usr/local/spark/jars/univocity-parsers-2.1.1.jar\n",
      "file:/usr/local/spark/jars/derby-10.11.1.1.jar\n",
      "file:/usr/local/spark/jars/spark-launcher_2.11-2.0.0.jar\n",
      "file:/usr/local/spark/jars/jdo-api-3.0.1.jar\n"
     ]
    },
    {
     "name": "stdout",
     "output_type": "stream",
     "text": [
      "file:/usr/local/spark/jars/aopalliance-repackaged-2.4.0-b34.jar\n",
      "file:/usr/local/spark/jars/curator-framework-2.6.0.jar\n",
      "file:/usr/local/spark/jars/validation-api-1.1.0.Final.jar\n",
      "file:/usr/local/spark/jars/bonecp-0.8.0.RELEASE.jar\n",
      "file:/usr/local/spark/jars/spark-network-common_2.11-2.0.0.jar\n",
      "file:/usr/local/spark/jars/javax.ws.rs-api-2.0.1.jar\n",
      "file:/usr/local/spark/jars/calcite-linq4j-1.2.0-incubating.jar\n",
      "file:/usr/local/spark/jars/datanucleus-api-jdo-3.2.6.jar\n",
      "file:/usr/local/spark/jars/guava-14.0.1.jar\n",
      "file:/usr/local/spark/jars/jackson-databind-2.6.5.jar\n",
      "file:/usr/local/spark/jars/commons-digester-1.8.jar\n",
      "file:/usr/local/spark/jars/jtransforms-2.4.0.jar\n",
      "file:/usr/local/spark/jars/stringtemplate-3.2.1.jar\n",
      "file:/usr/local/spark/jars/chill-java-0.8.0.jar\n",
      "file:/usr/local/spark/jars/jaxb-api-2.2.2.jar\n",
      "file:/usr/local/spark/jars/guice-3.0.jar\n",
      "file:/usr/local/spark/jars/commons-configuration-1.6.jar\n",
      "file:/usr/local/spark/jars/jsp-api-2.1.jar\n",
      "file:/usr/local/spark/jars/chill_2.11-0.8.0.jar\n",
      "file:/usr/local/spark/jars/jersey-server-2.22.2.jar\n",
      "file:/usr/local/spark/jars/parquet-hadoop-1.7.0.jar\n",
      "file:/usr/local/spark/jars/jpam-1.1.jar\n",
      "file:/usr/local/spark/jars/java-xmlbuilder-1.0.jar\n",
      "file:/usr/local/spark/jars/spire_2.11-0.7.4.jar\n",
      "file:/usr/local/spark/jars/jets3t-0.9.3.jar\n",
      "file:/usr/local/spark/jars/hive-cli-1.2.1.spark2.jar\n",
      "file:/usr/local/spark/jars/hadoop-yarn-api-2.7.2.jar\n",
      "file:/usr/local/spark/jars/parquet-generator-1.7.0.jar\n",
      "file:/usr/local/spark/jars/hadoop-mapreduce-client-jobclient-2.7.2.jar\n",
      "file:/usr/local/spark/jars/jersey-media-jaxb-2.22.2.jar\n",
      "file:/usr/local/spark/jars/jersey-container-servlet-2.22.2.jar\n",
      "file:/usr/local/spark/jars/snappy-0.2.jar\n",
      "file:/usr/local/spark/jars/parquet-jackson-1.7.0.jar\n",
      "file:/usr/local/spark/jars/hadoop-yarn-common-2.7.2.jar\n",
      "file:/usr/local/spark/jars/jackson-module-scala_2.11-2.6.5.jar\n",
      "file:/usr/local/spark/jars/metrics-core-3.1.2.jar\n",
      "file:/usr/local/spark/jars/spark-yarn_2.11-2.0.0.jar\n",
      "file:/usr/local/spark/jars/breeze_2.11-0.11.2.jar\n",
      "file:/usr/local/spark/jars/apache-log4j-extras-1.2.17.jar\n",
      "file:/usr/local/spark/jars/core-1.1.2.jar\n",
      "file:/usr/local/spark/jars/commons-lang3-3.3.2.jar\n",
      "file:/usr/local/spark/jars/spark-mllib_2.11-2.0.0.jar\n",
      "file:/usr/local/spark/jars/scala-parser-combinators_2.11-1.0.4.jar\n",
      "file:/usr/local/spark/jars/hadoop-yarn-client-2.7.2.jar\n",
      "file:/usr/local/hadoop/etc/hadoop/\n"
     ]
    },
    {
     "data": {
      "text/plain": [
       "import java.lang.ClassLoader\n",
       "cl: ClassLoader = sun.misc.Launcher$AppClassLoader@25dad8eb\n"
      ]
     },
     "execution_count": 10,
     "metadata": {},
     "output_type": "execute_result"
    }
   ],
   "source": [
    "// https://stackoverflow.com/questions/30512598/spark-is-there-a-way-to-print-out-classpath-of-both-spark-shell-and-spark\n",
    "import java.lang.ClassLoader\n",
    "val cl = ClassLoader.getSystemClassLoader\n",
    "cl.asInstanceOf[java.net.URLClassLoader].getURLs.foreach(println)"
   ]
  },
  {
   "cell_type": "code",
   "execution_count": 11,
   "metadata": {},
   "outputs": [
    {
     "name": "stdout",
     "output_type": "stream",
     "text": [
      "class java.lang.String\n",
      "class java.lang.Integer\n"
     ]
    },
    {
     "data": {
      "text/plain": [
       "printClass: (c: Any)Unit\n"
      ]
     },
     "execution_count": 11,
     "metadata": {},
     "output_type": "execute_result"
    }
   ],
   "source": [
    "def printClass(c: Any) { println(c.getClass) }\n",
    "printClass(\"\")\n",
    "printClass(66)"
   ]
  },
  {
   "cell_type": "code",
   "execution_count": 12,
   "metadata": {},
   "outputs": [
    {
     "data": {
      "text/plain": [
       "age: Int = 18\n",
       "can_vote: String = yes\n"
      ]
     },
     "execution_count": 12,
     "metadata": {},
     "output_type": "execute_result"
    }
   ],
   "source": [
    "var age = 18\n",
    "val can_vote = if(age>=18) \"yes\" else \"no\""
   ]
  },
  {
   "cell_type": "code",
   "execution_count": 13,
   "metadata": {},
   "outputs": [
    {
     "name": "stdout",
     "output_type": "stream",
     "text": [
      "between 10 and 20\n",
      "true\n"
     ]
    }
   ],
   "source": [
    "if(age>10 && age < 20) {\n",
    "    println(\"between 10 and 20\")\n",
    "    println(true || false)\n",
    "}"
   ]
  },
  {
   "cell_type": "code",
   "execution_count": 14,
   "metadata": {},
   "outputs": [
    {
     "name": "stdout",
     "output_type": "stream",
     "text": [
      "10\n",
      "11\n",
      "12\n"
     ]
    },
    {
     "data": {
      "text/plain": [
       "ind: Int = 13\n"
      ]
     },
     "execution_count": 14,
     "metadata": {},
     "output_type": "execute_result"
    }
   ],
   "source": [
    "var ind = 10\n",
    "while(ind<13) {\n",
    "    println(ind)\n",
    "    ind += 1\n",
    "}"
   ]
  },
  {
   "cell_type": "code",
   "execution_count": 15,
   "metadata": {},
   "outputs": [
    {
     "name": "stdout",
     "output_type": "stream",
     "text": [
      "1\n",
      "2\n",
      "3\n"
     ]
    }
   ],
   "source": [
    "for (i <- 1 to 3) println(i)"
   ]
  },
  {
   "cell_type": "code",
   "execution_count": 16,
   "metadata": {},
   "outputs": [
    {
     "name": "stdout",
     "output_type": "stream",
     "text": [
      "s d f s f s d f a s d "
     ]
    },
    {
     "data": {
      "text/plain": [
       "letters: String = sdfsfsdfasd\n"
      ]
     },
     "execution_count": 16,
     "metadata": {},
     "output_type": "execute_result"
    }
   ],
   "source": [
    "val letters = \"sdfsfsdfasd\"\n",
    "for(i <- 0 to letters.length-1) {\n",
    "    print(letters(i) + \" \")\n",
    "}"
   ]
  },
  {
   "cell_type": "code",
   "execution_count": 17,
   "metadata": {},
   "outputs": [
    {
     "name": "stdout",
     "output_type": "stream",
     "text": [
      "1 2 3 4 5 "
     ]
    },
    {
     "data": {
      "text/plain": [
       "myList: List[Int] = List(4, 3, 2, 1, 5)\n"
      ]
     },
     "execution_count": 17,
     "metadata": {},
     "output_type": "execute_result"
    }
   ],
   "source": [
    "val myList = List(4,3,2,1,5)\n",
    "for(i <- myList) {\n",
    "    print(myList(i-1) + \" \")\n",
    "}"
   ]
  },
  {
   "cell_type": "code",
   "execution_count": 18,
   "metadata": {},
   "outputs": [
    {
     "data": {
      "text/plain": [
       "myDoubleToLong: (el: Double)Long\n"
      ]
     },
     "execution_count": 18,
     "metadata": {},
     "output_type": "execute_result"
    }
   ],
   "source": [
    "def myDoubleToLong (el:Double) : Long = {\n",
    "    return el.toLong\n",
    "}"
   ]
  },
  {
   "cell_type": "code",
   "execution_count": 19,
   "metadata": {},
   "outputs": [
    {
     "data": {
      "text/plain": [
       "x: Double = 3.0\n"
      ]
     },
     "execution_count": 19,
     "metadata": {},
     "output_type": "execute_result"
    }
   ],
   "source": [
    "val x = 3D"
   ]
  },
  {
   "cell_type": "code",
   "execution_count": 20,
   "metadata": {},
   "outputs": [
    {
     "data": {
      "text/plain": [
       "res12: Long = 3\n"
      ]
     },
     "execution_count": 20,
     "metadata": {},
     "output_type": "execute_result"
    }
   ],
   "source": [
    "myDoubleToLong(x)"
   ]
  },
  {
   "cell_type": "code",
   "execution_count": 21,
   "metadata": {},
   "outputs": [
    {
     "data": {
      "text/plain": [
       "my_fun: (num1: Int, num2: Int)Int\n",
       "res13: Int = 4\n"
      ]
     },
     "execution_count": 21,
     "metadata": {},
     "output_type": "execute_result"
    }
   ],
   "source": [
    "def my_fun(num1:Int, num2:Int) : Int = {\n",
    "    return (num1)\n",
    "}\n",
    "\n",
    "my_fun(num2=3,num1=4)"
   ]
  },
  {
   "cell_type": "code",
   "execution_count": 22,
   "metadata": {},
   "outputs": [
    {
     "name": "stdout",
     "output_type": "stream",
     "text": [
      "hep\n"
     ]
    },
    {
     "data": {
      "text/plain": [
       "my_fun2: ()Unit\n"
      ]
     },
     "execution_count": 22,
     "metadata": {},
     "output_type": "execute_result"
    }
   ],
   "source": [
    "def my_fun2() = {\n",
    "    println(\"hep\")\n",
    "}\n",
    "my_fun2"
   ]
  },
  {
   "cell_type": "code",
   "execution_count": 23,
   "metadata": {},
   "outputs": [
    {
     "data": {
      "text/plain": [
       "getSum: (args: Int*)Int\n",
       "res15: Int = 20\n"
      ]
     },
     "execution_count": 23,
     "metadata": {},
     "output_type": "execute_result"
    }
   ],
   "source": [
    "def getSum(args : Int*) : Int = {\n",
    "    var sum : Int = 0\n",
    "    for (num <- args) {\n",
    "        sum += num\n",
    "    }\n",
    "    return sum\n",
    "}\n",
    "\n",
    "getSum(3,4,13)"
   ]
  },
  {
   "cell_type": "code",
   "execution_count": 24,
   "metadata": {},
   "outputs": [
    {
     "data": {
      "text/plain": [
       "favNums: Array[Int] = Array(0, 2, 4, 6, 8, 10, 12, 14, 16, 18, 20, 22, 24, 26, 28, 30, 32, 34, 36, 38)\n"
      ]
     },
     "execution_count": 24,
     "metadata": {},
     "output_type": "execute_result"
    }
   ],
   "source": [
    "val favNums = new Array[Int](20)\n",
    "\n",
    "for( ind <- 0 until favNums.length) {\n",
    "    favNums(ind) = 2*ind\n",
    "}"
   ]
  },
  {
   "cell_type": "code",
   "execution_count": 25,
   "metadata": {},
   "outputs": [
    {
     "name": "stdout",
     "output_type": "stream",
     "text": [
      "-64\n"
     ]
    },
    {
     "data": {
      "text/plain": [
       "favNumsTimes2: Array[Int] = Array(-100, -94, -88, -82, -76, -70, -64)\n",
       "res17: Array[Int] = Array(-64, -70, -76, -82, -88, -94, -100)\n"
      ]
     },
     "execution_count": 25,
     "metadata": {},
     "output_type": "execute_result"
    }
   ],
   "source": [
    "val favNumsTimes2 = for (num <- favNums if num%3==0) yield num-100\n",
    "println(favNumsTimes2.max)\n",
    "favNumsTimes2.sortWith(_>_)"
   ]
  },
  {
   "cell_type": "code",
   "execution_count": 26,
   "metadata": {},
   "outputs": [
    {
     "data": {
      "text/plain": [
       "myM: Array[Array[Int]] = Array(Array(0, 0, 0, 0, 0), Array(0, 0, 0, 0, 0), Array(0, 0, 0, 66, 0), Array(0, 0, 0, 0, 0), Array(0, 0, 0, 0, 0))\n"
      ]
     },
     "execution_count": 26,
     "metadata": {},
     "output_type": "execute_result"
    }
   ],
   "source": [
    "val myM = Array.ofDim[Int](5,5)\n",
    "myM(2)(3) = 66"
   ]
  },
  {
   "cell_type": "code",
   "execution_count": 27,
   "metadata": {},
   "outputs": [
    {
     "name": "stdout",
     "output_type": "stream",
     "text": [
      "hello bob"
     ]
    },
    {
     "data": {
      "text/plain": [
       "myarr: Array[String] = Array(bob, car)\n"
      ]
     },
     "execution_count": 27,
     "metadata": {},
     "output_type": "execute_result"
    }
   ],
   "source": [
    "val myarr = Array(\"bob\", \"car\")\n",
    "print(\"hello \" + myarr(0))"
   ]
  },
  {
   "cell_type": "code",
   "execution_count": 28,
   "metadata": {},
   "outputs": [
    {
     "data": {
      "text/plain": [
       "import scala.collection._\n",
       "a: scala.collection.mutable.ArrayBuffer[Int] = ArrayBuffer(66, 1, 2, 2, 3)\n",
       "res20: scala.collection.mutable.ArrayBuffer[Int] = ArrayBuffer(66, 1, 2, 2, 3)\n"
      ]
     },
     "execution_count": 28,
     "metadata": {},
     "output_type": "execute_result"
    }
   ],
   "source": [
    "import scala.collection._\n",
    "val a = mutable.ArrayBuffer(1, 2, 2, 3)\n",
    "a.insert(0,66)\n",
    "a"
   ]
  },
  {
   "cell_type": "code",
   "execution_count": 29,
   "metadata": {},
   "outputs": [
    {
     "name": "stdout",
     "output_type": "stream",
     "text": [
      "val2"
     ]
    },
    {
     "data": {
      "text/plain": [
       "employees: scala.collection.Map[String,String] = Map(key1 -> val1, key2 -> val2)\n",
       "res21: Boolean = true\n"
      ]
     },
     "execution_count": 29,
     "metadata": {},
     "output_type": "execute_result"
    }
   ],
   "source": [
    "val employees = Map(\"key1\" -> \"val1\", \"key2\" -> \"val2\")\n",
    "print(employees(\"key2\"))\n",
    "employees.contains(\"key1\")"
   ]
  },
  {
   "cell_type": "code",
   "execution_count": 30,
   "metadata": {},
   "outputs": [
    {
     "name": "stdout",
     "output_type": "stream",
     "text": [
      "key2 ARE YES hellooooo\n",
      "key1 ARE YES val1\n",
      "key3 ARE YES 666\n"
     ]
    },
    {
     "data": {
      "text/plain": [
       "employees2: scala.collection.mutable.Map[String,String] = Map(key2 -> hellooooo, key1 -> val1, key3 -> 666)\n"
      ]
     },
     "execution_count": 30,
     "metadata": {},
     "output_type": "execute_result"
    }
   ],
   "source": [
    "val employees2 = mutable.Map(\"key1\" -> \"val1\", \"key2\" -> \"val2\")\n",
    "employees2(\"key2\") = \"hellooooo\"\n",
    "employees2(\"key3\") = \"666\"\n",
    "\n",
    "for ((k,v) <- employees2) {\n",
    "    printf(\"%s ARE YES %s\\n\",k,v)\n",
    "}"
   ]
  },
  {
   "cell_type": "code",
   "execution_count": 31,
   "metadata": {},
   "outputs": [
    {
     "name": "stdout",
     "output_type": "stream",
     "text": [
      "dsfaf\n",
      "34\n"
     ]
    },
    {
     "data": {
      "text/plain": [
       "myTuple: (String, Int) = (dsfaf,34)\n",
       "res23: Int = 34\n"
      ]
     },
     "execution_count": 31,
     "metadata": {},
     "output_type": "execute_result"
    }
   ],
   "source": [
    "val myTuple = (\"dsfaf\",34)\n",
    "myTuple.productIterator.foreach( i => println(i))\n",
    "myTuple._2"
   ]
  },
  {
   "cell_type": "code",
   "execution_count": 32,
   "metadata": {},
   "outputs": [
    {
     "name": "stdout",
     "output_type": "stream",
     "text": [
      "wtf\n",
      "dafaq\n"
     ]
    },
    {
     "data": {
      "text/plain": [
       "defined class Animal\n",
       "defined object Animal\n",
       "a: Animal = im a beast\n",
       "res24: String = hephep\n"
      ]
     },
     "execution_count": 32,
     "metadata": {},
     "output_type": "execute_result"
    }
   ],
   "source": [
    "class Animal(name:String=\"sdf\", var sound:String=\"sdf\") {\n",
    "//     part of default constructor\n",
    "    println(name)\n",
    "    println(sound)\n",
    "    val id = Animal.newIdNum\n",
    "    \n",
    "    def this() { // if nothing passed to constructor\n",
    "        this(\"wtf\",\"dafaq\")\n",
    "    }\n",
    "    def setSound(mysound:String) = {\n",
    "        this.sound = mysound\n",
    "    }\n",
    "    \n",
    "    override def toString() : String = {\n",
    "        \"im a beast\"\n",
    "    }\n",
    "    \n",
    "}\n",
    "\n",
    "object Animal {\n",
    "    private var idNumber = 0\n",
    "    private var newIdNum = { idNumber +=1; idNumber }\n",
    "}\n",
    "\n",
    "var a = new Animal\n",
    "a.setSound(\"hephep\")\n",
    "a.sound"
   ]
  },
  {
   "cell_type": "code",
   "execution_count": 33,
   "metadata": {},
   "outputs": [
    {
     "data": {
      "text/plain": [
       "defined class Dog\n"
      ]
     },
     "execution_count": 33,
     "metadata": {},
     "output_type": "execute_result"
    }
   ],
   "source": [
    "class Dog(name:String=\"sdf\", sound:String=\"sdf\", var growl:String=\"woof\") extends Animal(name, sound) {\n",
    "    override def setSound(mysound:String) = {\n",
    "        super.setSound(\"mysound\")\n",
    "        println(\"'wwwwwoof'\")\n",
    "    }\n",
    "}"
   ]
  },
  {
   "cell_type": "code",
   "execution_count": 34,
   "metadata": {},
   "outputs": [
    {
     "name": "stdout",
     "output_type": "stream",
     "text": [
      "sdf\n",
      "sdf\n",
      "'wwwwwoof'\n"
     ]
    },
    {
     "data": {
      "text/plain": [
       "d: Dog = im a beast\n",
       "res25: String = mysound\n"
      ]
     },
     "execution_count": 34,
     "metadata": {},
     "output_type": "execute_result"
    }
   ],
   "source": [
    "val d = new Dog\n",
    "d.setSound(\"oo\")\n",
    "d.sound"
   ]
  },
  {
   "cell_type": "code",
   "execution_count": 35,
   "metadata": {},
   "outputs": [
    {
     "name": "stdout",
     "output_type": "stream",
     "text": [
      "flying\n",
      "bullet deflected\n",
      "ouch\n"
     ]
    },
    {
     "data": {
      "text/plain": [
       "defined trait flyable\n",
       "defined trait bulletproof\n",
       "defined class superhero\n",
       "mys: superhero = superhero@5a4555aa\n"
      ]
     },
     "execution_count": 35,
     "metadata": {},
     "output_type": "execute_result"
    }
   ],
   "source": [
    "trait flyable {\n",
    "    def fly() : String\n",
    "}\n",
    "\n",
    "trait bulletproof {\n",
    "    def hitbybullet() : String\n",
    "    def deflect() : String = { \"bullet deflected\" }\n",
    "}\n",
    "\n",
    "class superhero(var name:String)  extends flyable with bulletproof {\n",
    "    def fly():String = { \"flying\" }\n",
    "    def hitbybullet():String = { \"ouch\"}\n",
    "}\n",
    "\n",
    "val mys = new superhero(\"superman\")\n",
    "println(mys.fly())\n",
    "println(mys.deflect())\n",
    "println(mys.hitbybullet())"
   ]
  },
  {
   "cell_type": "code",
   "execution_count": 36,
   "metadata": {},
   "outputs": [
    {
     "ename": "<console>",
     "evalue": "29: error: type mismatch;",
     "output_type": "error",
     "traceback": [
      "<console>:29: error: type mismatch;",
      " found   : Float",
      " required: org.apache.spark.sql.Column",
      "       val myf = round(_:Float)",
      "                        ^",
      ""
     ]
    }
   ],
   "source": [
    "val myf = round(_:Float)"
   ]
  },
  {
   "cell_type": "code",
   "execution_count": null,
   "metadata": {},
   "outputs": [],
   "source": [
    "val myf2 = log10(_)\n",
    "List(10d,100d,1000d,2000d,3000d).map(myf2).foreach(println)\n",
    "List(10d,100d,1000d,2000d,3000d).map((num:Double) => num*10).map(myf2).foreach(println)\n",
    "List(10d,100d,1000d,2000d,3000d).filter(_ <= 1000d).map(_*10).map(myf2).foreach(println)"
   ]
  },
  {
   "cell_type": "code",
   "execution_count": null,
   "metadata": {},
   "outputs": [],
   "source": [
    "def callerxxx(somef:Int=>Double, num:Int):Double= {\n",
    "    return somef(num)\n",
    "}\n",
    "\n",
    "def times3(num:Int):Int = { return num * 3 }\n",
    "callerxxx(times3,255)"
   ]
  },
  {
   "cell_type": "code",
   "execution_count": null,
   "metadata": {},
   "outputs": [],
   "source": [
    "import java.io.PrintWriter\n",
    "import scala.io.Source\n",
    "\n",
    "val writer = new PrintWriter(\"sdtest.txt\")\n",
    "writer.write(\"hephephep\")\n",
    "writer.close()\n",
    "\n",
    "val txtFromFile = Source.fromFile(\"sdtest.txt\", \"UTF-8\")\n",
    "val lineIter = txtFromFile.getLines\n",
    "\n",
    "for (line <- lineIter) {\n",
    "    println(line)\n",
    "}"
   ]
  },
  {
   "cell_type": "code",
   "execution_count": null,
   "metadata": {},
   "outputs": [],
   "source": [
    "try {\n",
    "    3/0\n",
    "} catch {\n",
    "    case ex:java.lang.ArithmeticException => { println(\"woups \" + ex ) }\n",
    "} finally {\n",
    "    println(\"cleanup\")\n",
    "}"
   ]
  },
  {
   "cell_type": "code",
   "execution_count": null,
   "metadata": {},
   "outputs": [],
   "source": [
    "import scala.math._"
   ]
  },
  {
   "cell_type": "code",
   "execution_count": null,
   "metadata": {},
   "outputs": [],
   "source": [
    "round(x).getClass"
   ]
  },
  {
   "cell_type": "code",
   "execution_count": null,
   "metadata": {},
   "outputs": [],
   "source": [
    "Package.getPackages()"
   ]
  },
  {
   "cell_type": "code",
   "execution_count": null,
   "metadata": {},
   "outputs": [],
   "source": [
    "val name = \"hep\""
   ]
  },
  {
   "cell_type": "code",
   "execution_count": null,
   "metadata": {},
   "outputs": [],
   "source": [
    "var q = s\"MATCH ()-[rel:`${name}`]->() return rel\"\n",
    "q"
   ]
  },
  {
   "cell_type": "code",
   "execution_count": 76,
   "metadata": {},
   "outputs": [
    {
     "data": {
      "text/plain": [
       "import scala.math._\n",
       "import scala.reflect.runtime.universe._\n"
      ]
     },
     "execution_count": 76,
     "metadata": {},
     "output_type": "execute_result"
    }
   ],
   "source": [
    "import scala.math._\n",
    "import scala.reflect.runtime.universe._"
   ]
  }
 ],
 "metadata": {
  "kernelspec": {
   "display_name": "spylon-kernel",
   "language": "scala",
   "name": "spylon-kernel"
  },
  "language_info": {
   "codemirror_mode": "text/x-scala",
   "file_extension": ".scala",
   "help_links": [
    {
     "text": "MetaKernel Magics",
     "url": "https://github.com/calysto/metakernel/blob/master/metakernel/magics/README.md"
    }
   ],
   "mimetype": "text/x-scala",
   "name": "scala",
   "pygments_lexer": "scala",
   "version": "0.4.1"
  },
  "varInspector": {
   "cols": {
    "lenName": 16,
    "lenType": 16,
    "lenVar": 40
   },
   "kernels_config": {
    "python": {
     "delete_cmd_postfix": "",
     "delete_cmd_prefix": "del ",
     "library": "var_list.py",
     "varRefreshCmd": "print(var_dic_list())"
    },
    "r": {
     "delete_cmd_postfix": ") ",
     "delete_cmd_prefix": "rm(",
     "library": "var_list.r",
     "varRefreshCmd": "cat(var_dic_list()) "
    }
   },
   "types_to_exclude": [
    "module",
    "function",
    "builtin_function_or_method",
    "instance",
    "_Feature"
   ],
   "window_display": false
  }
 },
 "nbformat": 4,
 "nbformat_minor": 2
}
