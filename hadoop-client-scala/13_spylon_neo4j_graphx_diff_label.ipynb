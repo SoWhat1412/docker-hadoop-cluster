{
 "cells": [
  {
   "cell_type": "markdown",
   "metadata": {},
   "source": [
    "## neo4j-contrib:neo4j-spark-connector versions\n",
    "https://mvnrepository.com/artifact/neo4j-contrib/neo4j-spark-connector"
   ]
  },
  {
   "cell_type": "code",
   "execution_count": 1,
   "metadata": {},
   "outputs": [],
   "source": [
    "%%init_spark\n",
    "# Configure Spark to use a local master\n",
    "# launcher.master = \"local[*]\"\n",
    "\n",
    "# needs java 1.8\n",
    "# launcher.packages = \"neo4j-contrib:neo4j-spark-connector:2.4.0-M6\"\n",
    "\n",
    "# needs java 1.8\n",
    "# launcher.packages = \"neo4j-contrib:neo4j-spark-connector:2.2.1-M5\"\n",
    "\n",
    "# saveGraph mixes up id and number (for scala 2.11)\n",
    "launcher.packages = \"neo4j-contrib:neo4j-spark-connector:2.1.0-M4\"\n",
    "\n",
    "# saveGraph mixes up id and number (for scala 2.10)\n",
    "# launcher.packages = \"neo4j-contrib:neo4j-spark-connector:2.1.0-M3\"\n",
    "\n",
    "# doesnt have neo.saveGraph()\n",
    "# launcher.packages = \"neo4j-contrib:neo4j-spark-connector:2.0.0-M2\" \n",
    "\n",
    "# doesnt do neo = Neo4j(sc)\n",
    "# launcher.packages = \"neo4j-contrib:neo4j-spark-connector:2.0.0-M1\"  "
   ]
  },
  {
   "cell_type": "code",
   "execution_count": 2,
   "metadata": {},
   "outputs": [
    {
     "data": {
      "text/plain": [
       "Intitializing Scala interpreter ..."
      ]
     },
     "metadata": {},
     "output_type": "display_data"
    },
    {
     "data": {
      "text/plain": [
       "Spark Web UI available at http://hadoop-master:8088/proxy/application_1552053568571_0002\n",
       "SparkContext available as 'sc' (version = 2.0.0, master = yarn, app id = application_1552053568571_0002)\n",
       "SparkSession available as 'spark'\n"
      ]
     },
     "metadata": {},
     "output_type": "display_data"
    },
    {
     "name": "stdout",
     "output_type": "stream",
     "text": [
      "yarn\n"
     ]
    }
   ],
   "source": [
    "println(sc.master)\n",
    "// val rdd = sc.parallelize(0 to 999)\n",
    "// rdd.takeSample(false, 5)"
   ]
  },
  {
   "cell_type": "code",
   "execution_count": 3,
   "metadata": {},
   "outputs": [
    {
     "data": {
      "text/plain": [
       "import org.neo4j.spark._\n",
       "neo: org.neo4j.spark.Neo4j = org.neo4j.spark.Neo4j@71f00b67\n",
       "import org.apache.spark.graphx._\n",
       "import org.apache.spark.graphx.lib._\n"
      ]
     },
     "execution_count": 3,
     "metadata": {},
     "output_type": "execute_result"
    }
   ],
   "source": [
    "import org.neo4j.spark._\n",
    "\n",
    "val neo = Neo4j(sc)\n",
    "\n",
    "import org.apache.spark.graphx._\n",
    "import org.apache.spark.graphx.lib._"
   ]
  },
  {
   "cell_type": "code",
   "execution_count": 4,
   "metadata": {},
   "outputs": [
    {
     "name": "stdout",
     "output_type": "stream",
     "text": [
      "27\n",
      "82\n"
     ]
    },
    {
     "data": {
      "text/plain": [
       "graphQuery: String = MATCH (n:touchedBySpark)-[r:touchedBySpark_rel]->(m:touchedBySpark) RETURN n.my_id as source, m.my_id as target, type(r) as value\n",
       "graph: org.apache.spark.graphx.Graph[Long,String] = org.apache.spark.graphx.impl.GraphImpl@6103ec11\n"
      ]
     },
     "execution_count": 4,
     "metadata": {},
     "output_type": "execute_result"
    }
   ],
   "source": [
    "// load graph via Cypher query\n",
    "// val graphQuery = \"MATCH (n:Person)-[r:KNOWS]->(m:Person) RETURN id(n) as source, id(m) as target, type(r) as value SKIP {_skip} LIMIT {_limit}\"\n",
    "// val graph: Graph[Long, String] = neo.rels(graphQuery).partitions(7).batch(200).loadGraph\n",
    "val graphQuery = \"MATCH (n:touchedBySpark)-[r:touchedBySpark_rel]->(m:touchedBySpark) RETURN n.my_id as source, m.my_id as target, type(r) as value\"\n",
    "val graph: Graph[Long, String] = neo.rels(graphQuery).partitions(2).batch(15).loadGraph\n",
    "println(graph.vertices.count)\n",
    "println(graph.edges.count)"
   ]
  },
  {
   "cell_type": "code",
   "execution_count": 5,
   "metadata": {},
   "outputs": [
    {
     "data": {
      "text/plain": [
       "graph_pagerank: org.apache.spark.graphx.Graph[Double,Double] = org.apache.spark.graphx.impl.GraphImpl@5b52cafb\n"
      ]
     },
     "execution_count": 5,
     "metadata": {},
     "output_type": "execute_result"
    }
   ],
   "source": [
    "// val graph2_pagerank = PageRank.run(graph2,500) //java.lang.OutOfMemoryError: Java heap space\n",
    "val graph_pagerank = PageRank.run(graph,100)"
   ]
  },
  {
   "cell_type": "code",
   "execution_count": 6,
   "metadata": {
    "scrolled": false
   },
   "outputs": [
    {
     "data": {
      "text/plain": [
       "res2: Array[org.apache.spark.graphx.Edge[String]] = Array(Edge(0,1,touchedBySpark_rel), Edge(0,2,touchedBySpark_rel), Edge(0,16,touchedBySpark_rel), Edge(3,4,touchedBySpark_rel), Edge(3,6,touchedBySpark_rel), Edge(3,16,touchedBySpark_rel), Edge(4,1,touchedBySpark_rel), Edge(5,4,touchedBySpark_rel), Edge(5,11,touchedBySpark_rel), Edge(6,2,touchedBySpark_rel), Edge(7,6,touchedBySpark_rel), Edge(7,11,touchedBySpark_rel), Edge(8,4,touchedBySpark_rel), Edge(8,11,touchedBySpark_rel), Edge(9,10,touchedBySpark_rel), Edge(10,5,touchedBySpark_rel), Edge(11,12,touchedBySpark_rel), Edge(12,13,touchedBySpark_rel), Edge(13,14,touchedBySpark_rel), Edge(14,15,touchedBySpark_rel), Edge(16,15,touchedBySpark_rel), Edge(17,19,touchedBySpark_rel), Edge(17,20,touchedBySpark_rel), Edge(18,20,touchedBySpark_re..."
      ]
     },
     "execution_count": 6,
     "metadata": {},
     "output_type": "execute_result"
    }
   ],
   "source": [
    "graph.edges.collect()"
   ]
  },
  {
   "cell_type": "code",
   "execution_count": 7,
   "metadata": {},
   "outputs": [
    {
     "data": {
      "text/plain": [
       "res3: Array[(org.apache.spark.graphx.VertexId, Long)] = Array((4,1), (16,15), (22,25), (14,15), (0,2), (24,26), (6,2), (8,11), (12,13), (18,20), (20,22), (26,18), (10,5), (2,0), (13,14), (19,21), (21,23), (15,0), (25,18), (11,12), (23,25), (1,0), (17,20), (3,6), (7,11), (9,10), (5,4))\n"
      ]
     },
     "execution_count": 7,
     "metadata": {},
     "output_type": "execute_result"
    }
   ],
   "source": [
    "graph.vertices.collect()"
   ]
  },
  {
   "cell_type": "code",
   "execution_count": 8,
   "metadata": {},
   "outputs": [
    {
     "data": {
      "text/plain": [
       "res4: Array[org.apache.spark.graphx.Edge[Double]] = Array(Edge(0,1,0.16666666666666666), Edge(0,2,0.16666666666666666), Edge(0,16,0.16666666666666666), Edge(3,4,0.16666666666666666), Edge(3,6,0.16666666666666666), Edge(3,16,0.16666666666666666), Edge(4,1,0.5), Edge(5,4,0.25), Edge(5,11,0.25), Edge(6,2,0.5), Edge(7,6,0.25), Edge(7,11,0.25), Edge(8,4,0.25), Edge(8,11,0.25), Edge(9,10,0.5), Edge(10,5,0.5), Edge(11,12,0.5), Edge(12,13,0.5), Edge(13,14,0.5), Edge(14,15,0.5), Edge(16,15,0.5), Edge(17,19,0.25), Edge(17,20,0.25), Edge(18,20,0.25), Edge(18,21,0.25), Edge(19,21,0.25), Edge(19,22,0.25), Edge(20,22,0.25), Edge(20,23,0.25), Edge(21,23,0.25), Edge(21,24,0.25), Edge(22,24,0.25), Edge(22,25,0.25), Edge(23,25,0.25), Edge(23,26,0.25), Edge(24,17,0.25), Edge(24,26,0.25), Edge(25,17,0.25),..."
      ]
     },
     "execution_count": 8,
     "metadata": {},
     "output_type": "execute_result"
    }
   ],
   "source": [
    "graph_pagerank.edges.collect()"
   ]
  },
  {
   "cell_type": "code",
   "execution_count": 9,
   "metadata": {},
   "outputs": [
    {
     "data": {
      "text/plain": [
       "res5: Array[(org.apache.spark.graphx.VertexId, Double)] = Array((4,0.420246875), (16,0.235), (22,0.9999999256447741), (14,0.657009268359375), (0,0.15), (24,0.9999999256447741), (6,0.25625), (8,0.15), (12,0.52527234375), (18,0.9999999256447741), (20,0.9999999256447741), (26,0.9999999256447741), (10,0.27749999999999997), (2,0.41031249999999997), (13,0.5964814921875), (19,0.9999999256447741), (21,0.9999999256447741), (15,0.9082078781054688), (25,0.9999999256447741), (11,0.441496875), (23,0.9999999256447741), (1,0.54970984375), (17,0.9999999256447741), (3,0.15), (7,0.15), (9,0.15), (5,0.38587499999999997))\n"
      ]
     },
     "execution_count": 9,
     "metadata": {},
     "output_type": "execute_result"
    }
   ],
   "source": [
    "graph_pagerank.vertices.collect()"
   ]
  },
  {
   "cell_type": "code",
   "execution_count": 10,
   "metadata": {},
   "outputs": [
    {
     "ename": "<console>",
     "evalue": "35: error: not found: value --",
     "output_type": "error",
     "traceback": [
      "<console>:35: error: not found: value --",
      "       --",
      "       ^",
      ""
     ]
    }
   ],
   "source": [
    "--"
   ]
  },
  {
   "cell_type": "code",
   "execution_count": 11,
   "metadata": {},
   "outputs": [
    {
     "data": {
      "text/plain": [
       "mypattern_cmon: org.neo4j.spark.Neo4j = org.neo4j.spark.Neo4j@71f00b67\n"
      ]
     },
     "execution_count": 11,
     "metadata": {},
     "output_type": "execute_result"
    }
   ],
   "source": [
    "val mypattern_cmon = neo.pattern((\"touchedBySpark\",\"my_id\"),(\"touchedBySpark_rel\",null),(\"touchedBySpark\",\"my_id\"))"
   ]
  },
  {
   "cell_type": "code",
   "execution_count": 12,
   "metadata": {},
   "outputs": [
    {
     "data": {
      "text/plain": [
       "res7: Long = 246\n"
      ]
     },
     "execution_count": 12,
     "metadata": {},
     "output_type": "execute_result"
    }
   ],
   "source": [
    "// uses pattern from above to save the data, merge parameter is false by default, only update existing nodes\n",
    "neo.saveGraph(graph_pagerank, \"rankcmon\", mypattern_cmon.pattern, merge = false)"
   ]
  },
  {
   "cell_type": "code",
   "execution_count": null,
   "metadata": {},
   "outputs": [],
   "source": [
    "// uses pattern from above to save the data, merge parameter is false by default, only update existing nodes\n",
    "neo.saveGraph(graph_pagerank, \"rankcmon\")"
   ]
  },
  {
   "cell_type": "code",
   "execution_count": 16,
   "metadata": {},
   "outputs": [
    {
     "data": {
      "text/plain": [
       "import scala.math._\n"
      ]
     },
     "execution_count": 16,
     "metadata": {},
     "output_type": "execute_result"
    }
   ],
   "source": [
    "import scala.math._"
   ]
  },
  {
   "cell_type": "code",
   "execution_count": 15,
   "metadata": {},
   "outputs": [],
   "source": [
    "PageRank.run?"
   ]
  }
 ],
 "metadata": {
  "kernelspec": {
   "display_name": "spylon-kernel",
   "language": "scala",
   "name": "spylon-kernel"
  },
  "language_info": {
   "codemirror_mode": "text/x-scala",
   "file_extension": ".scala",
   "help_links": [
    {
     "text": "MetaKernel Magics",
     "url": "https://github.com/calysto/metakernel/blob/master/metakernel/magics/README.md"
    }
   ],
   "mimetype": "text/x-scala",
   "name": "scala",
   "pygments_lexer": "scala",
   "version": "0.4.1"
  },
  "varInspector": {
   "cols": {
    "lenName": 16,
    "lenType": 16,
    "lenVar": 40
   },
   "kernels_config": {
    "python": {
     "delete_cmd_postfix": "",
     "delete_cmd_prefix": "del ",
     "library": "var_list.py",
     "varRefreshCmd": "print(var_dic_list())"
    },
    "r": {
     "delete_cmd_postfix": ") ",
     "delete_cmd_prefix": "rm(",
     "library": "var_list.r",
     "varRefreshCmd": "cat(var_dic_list()) "
    }
   },
   "types_to_exclude": [
    "module",
    "function",
    "builtin_function_or_method",
    "instance",
    "_Feature"
   ],
   "window_display": false
  }
 },
 "nbformat": 4,
 "nbformat_minor": 2
}
