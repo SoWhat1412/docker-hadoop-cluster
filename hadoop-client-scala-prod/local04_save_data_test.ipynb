{
 "cells": [
  {
   "cell_type": "markdown",
   "metadata": {},
   "source": [
    "# Overview\n",
    "http://10.100.34.19:9988 neo4j, testing w full data, around 75g\n",
    "\n",
    "Testing with \n",
    "\n",
    "    UNWIND range(1,35) as x\n",
    "    MATCH (n:Address),(m:Address) WHERE id(n) = x AND id(m)=toInt(rand()*10)\n",
    "    CREATE (n)-[:sdKNOWS]->(m);\n",
    "    \n",
    "Resulting in 35 sdKNOWS connecting 35 starting Address to 35 ending Address"
   ]
  },
  {
   "cell_type": "code",
   "execution_count": 1,
   "metadata": {
    "ExecuteTime": {
     "end_time": "2019-04-10T07:33:35.669516Z",
     "start_time": "2019-04-10T07:33:19.713Z"
    }
   },
   "outputs": [
    {
     "name": "stdout",
     "output_type": "stream",
     "text": [
      "Types will be printed.\n"
     ]
    }
   ],
   "source": [
    "%showtypes on"
   ]
  },
  {
   "cell_type": "code",
   "execution_count": 2,
   "metadata": {
    "ExecuteTime": {
     "end_time": "2019-04-10T07:33:37.747686Z",
     "start_time": "2019-04-10T07:33:37.616Z"
    },
    "scrolled": true
   },
   "outputs": [
    {
     "name": "stdout",
     "output_type": "stream",
     "text": [
      "http://10.100.34.19:4040/\n"
     ]
    }
   ],
   "source": [
    "// sc.getConf.getAll.foreach(println) // %lsmagic\n",
    "println(\"http://10.100.34.19:4040/\") //spark web UI"
   ]
  },
  {
   "cell_type": "code",
   "execution_count": 3,
   "metadata": {
    "ExecuteTime": {
     "end_time": "2019-04-10T07:33:39.623805Z",
     "start_time": "2019-04-10T07:33:38.278Z"
    }
   },
   "outputs": [],
   "source": [
    "import org.neo4j.spark._\n",
    "import org.apache.spark.sql.types._\n",
    "import org.apache.spark.sql.functions._\n",
    "import org.apache.spark.graphx._\n",
    "import org.apache.spark.graphx.lib._"
   ]
  },
  {
   "cell_type": "code",
   "execution_count": 4,
   "metadata": {
    "ExecuteTime": {
     "end_time": "2019-04-10T07:33:40.050464Z",
     "start_time": "2019-04-10T07:33:39.327Z"
    }
   },
   "outputs": [],
   "source": [
    "val neo = Neo4j(sc)"
   ]
  },
  {
   "cell_type": "code",
   "execution_count": 5,
   "metadata": {
    "ExecuteTime": {
     "end_time": "2019-04-10T07:33:40.890581Z",
     "start_time": "2019-04-10T07:33:40.439Z"
    },
    "scrolled": false
   },
   "outputs": [],
   "source": [
    "// val g = Neo4jGraph.loadGraph(sc, \"Person\", Seq(\"Person_relation\"), \"Person\")\n",
    "val graph = neo.pattern((\"Address\",\"id\"),(\"sdKNOWS\",null),(\"Address\",\"id\")).partitions(5).batch(20).loadGraph[Long,Long]"
   ]
  },
  {
   "cell_type": "code",
   "execution_count": 6,
   "metadata": {
    "ExecuteTime": {
     "end_time": "2019-04-10T07:33:59.228468Z",
     "start_time": "2019-04-10T07:33:41.008Z"
    }
   },
   "outputs": [
    {
     "name": "stdout",
     "output_type": "stream",
     "text": [
      "100\n",
      "35\n"
     ]
    }
   ],
   "source": [
    "println(graph.vertices.count)\n",
    "println(graph.edges.count)"
   ]
  },
  {
   "cell_type": "code",
   "execution_count": 7,
   "metadata": {
    "ExecuteTime": {
     "end_time": "2019-04-10T07:33:59.835515Z",
     "start_time": "2019-04-10T07:33:41.489Z"
    },
    "scrolled": true
   },
   "outputs": [
    {
     "name": "stdout",
     "output_type": "stream",
     "text": [
      "(0,0)\n",
      "(1,0)\n",
      "(2,0)\n",
      "(3,0)\n",
      "(4,0)\n",
      "(5,0)\n",
      "(6,0)\n",
      "(7,0)\n",
      "(8,0)\n",
      "(9,0)\n",
      "(10,0)\n",
      "(11,0)\n",
      "(12,0)\n",
      "(13,0)\n",
      "(14,0)\n",
      "(15,0)\n",
      "(16,0)\n",
      "(17,0)\n",
      "(18,0)\n",
      "(19,0)\n",
      "(20,0)\n",
      "(21,0)\n",
      "(22,0)\n",
      "(23,0)\n",
      "(24,0)\n",
      "(25,0)\n",
      "(26,0)\n",
      "(27,0)\n",
      "(28,0)\n",
      "(29,0)\n",
      "(30,0)\n",
      "(31,0)\n",
      "(32,0)\n",
      "(33,0)\n",
      "(34,0)\n",
      "(35,0)\n",
      "(36,0)\n",
      "(37,0)\n",
      "(38,0)\n",
      "(39,0)\n",
      "(40,0)\n",
      "(41,0)\n",
      "(42,0)\n",
      "(43,0)\n",
      "(44,0)\n",
      "(45,0)\n",
      "(46,0)\n",
      "(47,0)\n",
      "(48,0)\n",
      "(49,0)\n",
      "(50,0)\n",
      "(51,0)\n",
      "(52,0)\n",
      "(53,0)\n",
      "(54,0)\n",
      "(55,0)\n",
      "(56,0)\n",
      "(57,0)\n",
      "(58,0)\n",
      "(59,0)\n",
      "(60,0)\n",
      "(61,0)\n",
      "(62,0)\n",
      "(63,0)\n",
      "(64,0)\n",
      "(65,0)\n",
      "(66,0)\n",
      "(67,0)\n",
      "(68,0)\n",
      "(69,0)\n",
      "(70,0)\n",
      "(71,0)\n",
      "(72,0)\n",
      "(73,0)\n",
      "(74,0)\n",
      "(75,0)\n",
      "(76,0)\n",
      "(77,0)\n",
      "(78,0)\n",
      "(79,0)\n",
      "(80,0)\n",
      "(81,0)\n",
      "(82,0)\n",
      "(83,0)\n",
      "(84,0)\n",
      "(85,0)\n",
      "(86,0)\n",
      "(87,0)\n",
      "(88,0)\n",
      "(89,0)\n",
      "(90,0)\n",
      "(91,0)\n",
      "(92,0)\n",
      "(93,0)\n",
      "(94,0)\n",
      "(95,0)\n",
      "(96,0)\n",
      "(97,0)\n",
      "(98,0)\n",
      "(99,0)\n"
     ]
    }
   ],
   "source": [
    "// graph.vertices.collect()(0)._1\n",
    "graph.vertices.collect().sortWith(_._1 < _._1).foreach(println)"
   ]
  },
  {
   "cell_type": "code",
   "execution_count": 8,
   "metadata": {
    "ExecuteTime": {
     "end_time": "2019-04-10T07:34:00.797534Z",
     "start_time": "2019-04-10T07:33:51.085Z"
    }
   },
   "outputs": [],
   "source": [
    "// Find the connected components\n",
    "val graph_cc = graph.connectedComponents()"
   ]
  },
  {
   "cell_type": "code",
   "execution_count": 9,
   "metadata": {
    "ExecuteTime": {
     "end_time": "2019-04-10T07:34:25.371866Z",
     "start_time": "2019-04-10T07:34:24.542Z"
    }
   },
   "outputs": [
    {
     "name": "stdout",
     "output_type": "stream",
     "text": [
      "135\n"
     ]
    }
   ],
   "source": [
    "val return_val = neo.saveGraph(graph_cc, \"sdComponent_04\")\n",
    "println(return_val) // how many nodesUpdated + relsUpdated has been written"
   ]
  },
  {
   "cell_type": "code",
   "execution_count": null,
   "metadata": {},
   "outputs": [],
   "source": [
    "// val t_start = System.currentTimeMillis()\n",
    "\n",
    "// DO STUFF\n",
    "\n",
    "// val t_end = System.currentTimeMillis()\n",
    "// println(\"Elapsed time: \" + (t_end - t_start)/1000d + \"s\")"
   ]
  },
  {
   "cell_type": "code",
   "execution_count": null,
   "metadata": {},
   "outputs": [],
   "source": [
    "// val matchMerge = if (true) \"MERGE\" else \"MATCH\"\n",
    "// matchMerge\n",
    "\n",
    "// def myf(prop:String, matchMerge : String = null, nodeProp : String = null) : String = {\n",
    "//     if (prop == \"id\") {\n",
    "//       s\"UNWIND {data} as row $matchMerge (n:`$label`) WHERE id(n) = row.id SET n.`$nodeProp` = row.value return count(*)\"\n",
    "//     } else {\n",
    "//       s\"UNWIND {data} as row $matchMerge (n:`$label`) WHERE n.`$prop` = row.id SET n.`$nodeProp` = row.value return count(*)\"\n",
    "//     }\n",
    "// }\n",
    "\n",
    "\n",
    "// val label2 = \"label2\"\n",
    "// val prop2 = \"prop2\"\n",
    "\n",
    "// s\"\"\"UNWIND {data} as row\n",
    "//                  |MATCH (n:`$label`) WHERE n.`$prop` = row.from\n",
    "//                  |MATCH (m:`$label2`) WHERE m.`$prop2` = row.to\"\"\".stripMargin\n",
    "\n",
    "// // https://github.com/Gfeuillen/neo4j-spark-connector/blob/master/src/main/scala/org/neo4j/spark/Neo4jGraph.scala\n",
    "// val matchMerge = \"MATCH\"\n",
    "// val label = \"Address\"\n",
    "// val prop = \"id\"\n",
    "// val label2 = \"label2\"\n",
    "// val prop2 = \"prop2\"\n",
    "\n",
    "// val nodeProp = \"sdComponent_04\"\n",
    "\n",
    "// s\"\"\"UNWIND {data} as row\n",
    "//                  |MATCH (n:`$label`) WHERE n.`$prop` = row.from\n",
    "//                  |MATCH (m:`$label2`) WHERE m.`$prop2` = row.to\"\"\".stripMargin\n",
    "\n",
    "// val label = \"id\"\n",
    "\n",
    "// var str1 = \"\"\n",
    "// if (label == \"id\") {\n",
    "//     str1 = s\"MATCH (n:`$label`) WHERE id(n) = row.from \"\n",
    "// } else {\n",
    "//     str1 = s\"MATCH (n:`$label`) WHERE n.`$prop` = row.from \"\n",
    "// }\n",
    "\n",
    "// var str2 = \"\"\n",
    "// if (label2 == \"id\") {\n",
    "//     str2 = s\"MATCH (m:`$label2`) WHERE id(m) = row.to\"\n",
    "// } else {\n",
    "//     str2 = s\"MATCH (m:`$label2`) WHERE m.`$prop2` = row.to\"\n",
    "// }\n",
    "\n",
    "// // (\"UNWIND {data} as row\" + str1 + str2).stripMargin\n",
    "// s\"\"\"UNWIND {data} as row\n",
    "//     |$str1\n",
    "//     |$str2\"\"\".stripMargin\n",
    "\n",
    "// s\"\"\"UNWIND {data} as row\n",
    "//                  |MATCH (n:`$label`) WHERE n.`$prop` = row.from\n",
    "//                  |MATCH (m:`$label2`) WHERE m.`$prop2` = row.to\"\"\".stripMargin"
   ]
  },
  {
   "cell_type": "code",
   "execution_count": null,
   "metadata": {},
   "outputs": [],
   "source": [
    "//   // label1, label2, relTypes are optional\n",
    "//   // MATCH (n:${label(label1}})-[via:${rels(relTypes)}]->(m:${label(label2)}) RETURN id(n) as from, id(m) as to\n",
    "//   def loadGraph(sc: SparkContext, label1: String, relTypes: Seq[String], label2: String) : Graph[Any,Int] = {\n",
    "//     def label(l : String) = if (l == null) \"\" else \":`\"+l+\"`\"\n",
    "//     def rels(relTypes : Seq[String]) = relTypes.map(\":`\"+_+\"`\").mkString(\"|\")\n",
    "\n",
    "//     val relStmt = s\"MATCH (n${label(label1)})-[via${rels(relTypes)}]->(m${label(label2)}) RETURN id(n) as from, id(m) as to\"\n",
    "\n",
    "//     loadGraphFromNodePairs[Any](sc,relStmt)\n",
    "//   }"
   ]
  }
 ],
 "metadata": {
  "kernelspec": {
   "display_name": "Toree - Scala (local[20])",
   "language": "scala",
   "name": "apache_toree_scala"
  },
  "language_info": {
   "name": "scala",
   "version": "2.10.4"
  },
  "toc": {
   "base_numbering": 1,
   "nav_menu": {},
   "number_sections": true,
   "sideBar": true,
   "skip_h1_title": false,
   "title_cell": "Table of Contents",
   "title_sidebar": "Contents",
   "toc_cell": false,
   "toc_position": {
    "height": "calc(100% - 180px)",
    "left": "10px",
    "top": "150px",
    "width": "288px"
   },
   "toc_section_display": true,
   "toc_window_display": false
  },
  "varInspector": {
   "cols": {
    "lenName": 16,
    "lenType": 16,
    "lenVar": 40
   },
   "kernels_config": {
    "python": {
     "delete_cmd_postfix": "",
     "delete_cmd_prefix": "del ",
     "library": "var_list.py",
     "varRefreshCmd": "print(var_dic_list())"
    },
    "r": {
     "delete_cmd_postfix": ") ",
     "delete_cmd_prefix": "rm(",
     "library": "var_list.r",
     "varRefreshCmd": "cat(var_dic_list()) "
    }
   },
   "types_to_exclude": [
    "module",
    "function",
    "builtin_function_or_method",
    "instance",
    "_Feature"
   ],
   "window_display": false
  }
 },
 "nbformat": 4,
 "nbformat_minor": 2
}
