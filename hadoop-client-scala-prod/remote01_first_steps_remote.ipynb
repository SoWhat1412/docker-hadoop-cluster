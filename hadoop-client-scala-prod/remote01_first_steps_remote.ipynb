{
 "cells": [
  {
   "cell_type": "code",
   "execution_count": 1,
   "metadata": {},
   "outputs": [
    {
     "data": {
      "text/plain": [
       "org.apache.spark.SparkContext@3161dd3c"
      ]
     },
     "execution_count": 1,
     "metadata": {},
     "output_type": "execute_result"
    }
   ],
   "source": [
    "sc"
   ]
  },
  {
   "cell_type": "code",
   "execution_count": 2,
   "metadata": {},
   "outputs": [
    {
     "name": "stdout",
     "output_type": "stream",
     "text": [
      "(spark.executor.instances,4)\n",
      "(spark.yarn.queue,kg)\n",
      "(spark.executor.memory,4g)\n",
      "(spark.master,yarn-client)\n",
      "(spark.executor.id,driver)\n",
      "(spark.repl.class.uri,http://10.100.34.19:9995)\n",
      "(spark.org.apache.hadoop.yarn.server.webproxy.amfilter.AmIpFilter.param.PROXY_HOSTS,bigdata-001,bigdata-002)\n",
      "(spark.driver.extraJavaOptions,-Dlog4j.logLevel=info)\n",
      "(spark.driver.host,10.100.34.19)\n",
      "(spark.app.name,Apache Toree)\n",
      "(spark.executor.port,9993)\n",
      "(spark.org.apache.hadoop.yarn.server.webproxy.amfilter.AmIpFilter.param.PROXY_URI_BASES,http://bigdata-001:8088/proxy/application_1551270821430_118291,http://bigdata-002:8088/proxy/application_1551270821430_118291)\n",
      "(spark.fileserver.port,9994)\n",
      "(spark.externalBlockStore.folderName,spark-1dd7a9a9-a904-44d9-ad71-735d7810e0f0)\n",
      "(spark.replClassServer.port,9995)\n",
      "(spark.submit.deployMode,client)\n",
      "(spark.driver.port,9992)\n",
      "(spark.driver.appUIAddress,http://10.100.34.19:4040)\n",
      "(spark.broadcast.port,9991)\n",
      "(spark.executor.cores,8)\n",
      "(spark.driver.blockManager.port,9990)\n",
      "(spark.app.id,application_1551270821430_118291)\n",
      "(spark.ui.filters,org.apache.hadoop.yarn.server.webproxy.amfilter.AmIpFilter)\n",
      "(spark.jars,file:/home/jovyan/.ivy2/jars/com.databricks_spark-csv_2.10-1.4.0.jar,file:/home/jovyan/.ivy2/jars/org.apache.commons_commons-csv-1.1.jar,file:/home/jovyan/.ivy2/jars/com.univocity_univocity-parsers-1.5.1.jar,file:/opt/conda/share/jupyter/kernels/apache_toree_scala/lib/toree-assembly-0.1.0-incubating.jar)\n"
     ]
    }
   ],
   "source": [
    "sc.getConf.getAll.foreach(println)"
   ]
  },
  {
   "cell_type": "code",
   "execution_count": 3,
   "metadata": {},
   "outputs": [
    {
     "data": {
      "text/plain": [
       "Array(246, 714, 353, 282, 174)"
      ]
     },
     "execution_count": 3,
     "metadata": {},
     "output_type": "execute_result"
    }
   ],
   "source": [
    "val rdd = sc.parallelize(0 to 999)\n",
    "rdd.takeSample(false, 5)"
   ]
  },
  {
   "cell_type": "code",
   "execution_count": 4,
   "metadata": {},
   "outputs": [],
   "source": [
    "sc.stop()"
   ]
  },
  {
   "cell_type": "code",
   "execution_count": null,
   "metadata": {},
   "outputs": [],
   "source": []
  }
 ],
 "metadata": {
  "kernelspec": {
   "display_name": "Toree - Scala (remote)",
   "language": "scala",
   "name": "apache_toree_scala_remote"
  },
  "language_info": {
   "name": "scala",
   "version": "2.10.4"
  },
  "varInspector": {
   "cols": {
    "lenName": 16,
    "lenType": 16,
    "lenVar": 40
   },
   "kernels_config": {
    "python": {
     "delete_cmd_postfix": "",
     "delete_cmd_prefix": "del ",
     "library": "var_list.py",
     "varRefreshCmd": "print(var_dic_list())"
    },
    "r": {
     "delete_cmd_postfix": ") ",
     "delete_cmd_prefix": "rm(",
     "library": "var_list.r",
     "varRefreshCmd": "cat(var_dic_list()) "
    }
   },
   "types_to_exclude": [
    "module",
    "function",
    "builtin_function_or_method",
    "instance",
    "_Feature"
   ],
   "window_display": false
  }
 },
 "nbformat": 4,
 "nbformat_minor": 2
}
